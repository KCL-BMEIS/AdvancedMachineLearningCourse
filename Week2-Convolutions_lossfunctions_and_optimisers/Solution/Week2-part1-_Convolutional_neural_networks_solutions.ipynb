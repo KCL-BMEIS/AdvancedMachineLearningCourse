{
  "nbformat": 4,
  "nbformat_minor": 0,
  "metadata": {
    "colab": {
      "name": "2.1.Convolutional_neural_networks_solutions.ipynb",
      "provenance": [],
      "collapsed_sections": []
    },
    "kernelspec": {
      "name": "python3",
      "display_name": "Python 3"
    },
    "accelerator": "GPU",
    "widgets": {
      "application/vnd.jupyter.widget-state+json": {
        "9028d2dfb3384cfaa32dfdc0f4980675": {
          "model_module": "@jupyter-widgets/controls",
          "model_name": "HBoxModel",
          "state": {
            "_view_name": "HBoxView",
            "_dom_classes": [],
            "_model_name": "HBoxModel",
            "_view_module": "@jupyter-widgets/controls",
            "_model_module_version": "1.5.0",
            "_view_count": null,
            "_view_module_version": "1.5.0",
            "box_style": "",
            "layout": "IPY_MODEL_b78780399f134637acac178c5f199677",
            "_model_module": "@jupyter-widgets/controls",
            "children": [
              "IPY_MODEL_6580a732c00541658dbc3385dc11e3fc",
              "IPY_MODEL_6de56336901e41779c8e95a149d1de04"
            ]
          }
        },
        "b78780399f134637acac178c5f199677": {
          "model_module": "@jupyter-widgets/base",
          "model_name": "LayoutModel",
          "state": {
            "_view_name": "LayoutView",
            "grid_template_rows": null,
            "right": null,
            "justify_content": null,
            "_view_module": "@jupyter-widgets/base",
            "overflow": null,
            "_model_module_version": "1.2.0",
            "_view_count": null,
            "flex_flow": null,
            "width": null,
            "min_width": null,
            "border": null,
            "align_items": null,
            "bottom": null,
            "_model_module": "@jupyter-widgets/base",
            "top": null,
            "grid_column": null,
            "overflow_y": null,
            "overflow_x": null,
            "grid_auto_flow": null,
            "grid_area": null,
            "grid_template_columns": null,
            "flex": null,
            "_model_name": "LayoutModel",
            "justify_items": null,
            "grid_row": null,
            "max_height": null,
            "align_content": null,
            "visibility": null,
            "align_self": null,
            "height": null,
            "min_height": null,
            "padding": null,
            "grid_auto_rows": null,
            "grid_gap": null,
            "max_width": null,
            "order": null,
            "_view_module_version": "1.2.0",
            "grid_template_areas": null,
            "object_position": null,
            "object_fit": null,
            "grid_auto_columns": null,
            "margin": null,
            "display": null,
            "left": null
          }
        },
        "6580a732c00541658dbc3385dc11e3fc": {
          "model_module": "@jupyter-widgets/controls",
          "model_name": "FloatProgressModel",
          "state": {
            "_view_name": "ProgressView",
            "style": "IPY_MODEL_23fa6d19214e42dda5d91dcc5f393f57",
            "_dom_classes": [],
            "description": "",
            "_model_name": "FloatProgressModel",
            "bar_style": "info",
            "max": 1,
            "_view_module": "@jupyter-widgets/controls",
            "_model_module_version": "1.5.0",
            "value": 1,
            "_view_count": null,
            "_view_module_version": "1.5.0",
            "orientation": "horizontal",
            "min": 0,
            "description_tooltip": null,
            "_model_module": "@jupyter-widgets/controls",
            "layout": "IPY_MODEL_838278a3d1fe44f38bc472b96bb48827"
          }
        },
        "6de56336901e41779c8e95a149d1de04": {
          "model_module": "@jupyter-widgets/controls",
          "model_name": "HTMLModel",
          "state": {
            "_view_name": "HTMLView",
            "style": "IPY_MODEL_c88b91d729854b60887b00163e91a495",
            "_dom_classes": [],
            "description": "",
            "_model_name": "HTMLModel",
            "placeholder": "​",
            "_view_module": "@jupyter-widgets/controls",
            "_model_module_version": "1.5.0",
            "value": " 9920512/? [00:20&lt;00:00, 1465001.65it/s]",
            "_view_count": null,
            "_view_module_version": "1.5.0",
            "description_tooltip": null,
            "_model_module": "@jupyter-widgets/controls",
            "layout": "IPY_MODEL_809993be2ca14095ab89897d17815c51"
          }
        },
        "23fa6d19214e42dda5d91dcc5f393f57": {
          "model_module": "@jupyter-widgets/controls",
          "model_name": "ProgressStyleModel",
          "state": {
            "_view_name": "StyleView",
            "_model_name": "ProgressStyleModel",
            "description_width": "initial",
            "_view_module": "@jupyter-widgets/base",
            "_model_module_version": "1.5.0",
            "_view_count": null,
            "_view_module_version": "1.2.0",
            "bar_color": null,
            "_model_module": "@jupyter-widgets/controls"
          }
        },
        "838278a3d1fe44f38bc472b96bb48827": {
          "model_module": "@jupyter-widgets/base",
          "model_name": "LayoutModel",
          "state": {
            "_view_name": "LayoutView",
            "grid_template_rows": null,
            "right": null,
            "justify_content": null,
            "_view_module": "@jupyter-widgets/base",
            "overflow": null,
            "_model_module_version": "1.2.0",
            "_view_count": null,
            "flex_flow": null,
            "width": null,
            "min_width": null,
            "border": null,
            "align_items": null,
            "bottom": null,
            "_model_module": "@jupyter-widgets/base",
            "top": null,
            "grid_column": null,
            "overflow_y": null,
            "overflow_x": null,
            "grid_auto_flow": null,
            "grid_area": null,
            "grid_template_columns": null,
            "flex": null,
            "_model_name": "LayoutModel",
            "justify_items": null,
            "grid_row": null,
            "max_height": null,
            "align_content": null,
            "visibility": null,
            "align_self": null,
            "height": null,
            "min_height": null,
            "padding": null,
            "grid_auto_rows": null,
            "grid_gap": null,
            "max_width": null,
            "order": null,
            "_view_module_version": "1.2.0",
            "grid_template_areas": null,
            "object_position": null,
            "object_fit": null,
            "grid_auto_columns": null,
            "margin": null,
            "display": null,
            "left": null
          }
        },
        "c88b91d729854b60887b00163e91a495": {
          "model_module": "@jupyter-widgets/controls",
          "model_name": "DescriptionStyleModel",
          "state": {
            "_view_name": "StyleView",
            "_model_name": "DescriptionStyleModel",
            "description_width": "",
            "_view_module": "@jupyter-widgets/base",
            "_model_module_version": "1.5.0",
            "_view_count": null,
            "_view_module_version": "1.2.0",
            "_model_module": "@jupyter-widgets/controls"
          }
        },
        "809993be2ca14095ab89897d17815c51": {
          "model_module": "@jupyter-widgets/base",
          "model_name": "LayoutModel",
          "state": {
            "_view_name": "LayoutView",
            "grid_template_rows": null,
            "right": null,
            "justify_content": null,
            "_view_module": "@jupyter-widgets/base",
            "overflow": null,
            "_model_module_version": "1.2.0",
            "_view_count": null,
            "flex_flow": null,
            "width": null,
            "min_width": null,
            "border": null,
            "align_items": null,
            "bottom": null,
            "_model_module": "@jupyter-widgets/base",
            "top": null,
            "grid_column": null,
            "overflow_y": null,
            "overflow_x": null,
            "grid_auto_flow": null,
            "grid_area": null,
            "grid_template_columns": null,
            "flex": null,
            "_model_name": "LayoutModel",
            "justify_items": null,
            "grid_row": null,
            "max_height": null,
            "align_content": null,
            "visibility": null,
            "align_self": null,
            "height": null,
            "min_height": null,
            "padding": null,
            "grid_auto_rows": null,
            "grid_gap": null,
            "max_width": null,
            "order": null,
            "_view_module_version": "1.2.0",
            "grid_template_areas": null,
            "object_position": null,
            "object_fit": null,
            "grid_auto_columns": null,
            "margin": null,
            "display": null,
            "left": null
          }
        },
        "d436b0e299304f91b69a64503fd72751": {
          "model_module": "@jupyter-widgets/controls",
          "model_name": "HBoxModel",
          "state": {
            "_view_name": "HBoxView",
            "_dom_classes": [],
            "_model_name": "HBoxModel",
            "_view_module": "@jupyter-widgets/controls",
            "_model_module_version": "1.5.0",
            "_view_count": null,
            "_view_module_version": "1.5.0",
            "box_style": "",
            "layout": "IPY_MODEL_0174e42cd60644e9913b9904e3ca2103",
            "_model_module": "@jupyter-widgets/controls",
            "children": [
              "IPY_MODEL_7cdd9d025b954d1b8e93dbb96fe95e60",
              "IPY_MODEL_e7e83205e3964fa4a3d73981ad32be74"
            ]
          }
        },
        "0174e42cd60644e9913b9904e3ca2103": {
          "model_module": "@jupyter-widgets/base",
          "model_name": "LayoutModel",
          "state": {
            "_view_name": "LayoutView",
            "grid_template_rows": null,
            "right": null,
            "justify_content": null,
            "_view_module": "@jupyter-widgets/base",
            "overflow": null,
            "_model_module_version": "1.2.0",
            "_view_count": null,
            "flex_flow": null,
            "width": null,
            "min_width": null,
            "border": null,
            "align_items": null,
            "bottom": null,
            "_model_module": "@jupyter-widgets/base",
            "top": null,
            "grid_column": null,
            "overflow_y": null,
            "overflow_x": null,
            "grid_auto_flow": null,
            "grid_area": null,
            "grid_template_columns": null,
            "flex": null,
            "_model_name": "LayoutModel",
            "justify_items": null,
            "grid_row": null,
            "max_height": null,
            "align_content": null,
            "visibility": null,
            "align_self": null,
            "height": null,
            "min_height": null,
            "padding": null,
            "grid_auto_rows": null,
            "grid_gap": null,
            "max_width": null,
            "order": null,
            "_view_module_version": "1.2.0",
            "grid_template_areas": null,
            "object_position": null,
            "object_fit": null,
            "grid_auto_columns": null,
            "margin": null,
            "display": null,
            "left": null
          }
        },
        "7cdd9d025b954d1b8e93dbb96fe95e60": {
          "model_module": "@jupyter-widgets/controls",
          "model_name": "FloatProgressModel",
          "state": {
            "_view_name": "ProgressView",
            "style": "IPY_MODEL_1183ecf63fc34d0199675f64a3953766",
            "_dom_classes": [],
            "description": "",
            "_model_name": "FloatProgressModel",
            "bar_style": "success",
            "max": 1,
            "_view_module": "@jupyter-widgets/controls",
            "_model_module_version": "1.5.0",
            "value": 1,
            "_view_count": null,
            "_view_module_version": "1.5.0",
            "orientation": "horizontal",
            "min": 0,
            "description_tooltip": null,
            "_model_module": "@jupyter-widgets/controls",
            "layout": "IPY_MODEL_6c2f68109b0b4c54a84f3b8e6f65549b"
          }
        },
        "e7e83205e3964fa4a3d73981ad32be74": {
          "model_module": "@jupyter-widgets/controls",
          "model_name": "HTMLModel",
          "state": {
            "_view_name": "HTMLView",
            "style": "IPY_MODEL_3dbf02b5b36842d39ef931011bb89875",
            "_dom_classes": [],
            "description": "",
            "_model_name": "HTMLModel",
            "placeholder": "​",
            "_view_module": "@jupyter-widgets/controls",
            "_model_module_version": "1.5.0",
            "value": " 32768/? [00:01&lt;00:00, 27832.85it/s]",
            "_view_count": null,
            "_view_module_version": "1.5.0",
            "description_tooltip": null,
            "_model_module": "@jupyter-widgets/controls",
            "layout": "IPY_MODEL_1d62b35df1f448c38d0ce34da9f9d86b"
          }
        },
        "1183ecf63fc34d0199675f64a3953766": {
          "model_module": "@jupyter-widgets/controls",
          "model_name": "ProgressStyleModel",
          "state": {
            "_view_name": "StyleView",
            "_model_name": "ProgressStyleModel",
            "description_width": "initial",
            "_view_module": "@jupyter-widgets/base",
            "_model_module_version": "1.5.0",
            "_view_count": null,
            "_view_module_version": "1.2.0",
            "bar_color": null,
            "_model_module": "@jupyter-widgets/controls"
          }
        },
        "6c2f68109b0b4c54a84f3b8e6f65549b": {
          "model_module": "@jupyter-widgets/base",
          "model_name": "LayoutModel",
          "state": {
            "_view_name": "LayoutView",
            "grid_template_rows": null,
            "right": null,
            "justify_content": null,
            "_view_module": "@jupyter-widgets/base",
            "overflow": null,
            "_model_module_version": "1.2.0",
            "_view_count": null,
            "flex_flow": null,
            "width": null,
            "min_width": null,
            "border": null,
            "align_items": null,
            "bottom": null,
            "_model_module": "@jupyter-widgets/base",
            "top": null,
            "grid_column": null,
            "overflow_y": null,
            "overflow_x": null,
            "grid_auto_flow": null,
            "grid_area": null,
            "grid_template_columns": null,
            "flex": null,
            "_model_name": "LayoutModel",
            "justify_items": null,
            "grid_row": null,
            "max_height": null,
            "align_content": null,
            "visibility": null,
            "align_self": null,
            "height": null,
            "min_height": null,
            "padding": null,
            "grid_auto_rows": null,
            "grid_gap": null,
            "max_width": null,
            "order": null,
            "_view_module_version": "1.2.0",
            "grid_template_areas": null,
            "object_position": null,
            "object_fit": null,
            "grid_auto_columns": null,
            "margin": null,
            "display": null,
            "left": null
          }
        },
        "3dbf02b5b36842d39ef931011bb89875": {
          "model_module": "@jupyter-widgets/controls",
          "model_name": "DescriptionStyleModel",
          "state": {
            "_view_name": "StyleView",
            "_model_name": "DescriptionStyleModel",
            "description_width": "",
            "_view_module": "@jupyter-widgets/base",
            "_model_module_version": "1.5.0",
            "_view_count": null,
            "_view_module_version": "1.2.0",
            "_model_module": "@jupyter-widgets/controls"
          }
        },
        "1d62b35df1f448c38d0ce34da9f9d86b": {
          "model_module": "@jupyter-widgets/base",
          "model_name": "LayoutModel",
          "state": {
            "_view_name": "LayoutView",
            "grid_template_rows": null,
            "right": null,
            "justify_content": null,
            "_view_module": "@jupyter-widgets/base",
            "overflow": null,
            "_model_module_version": "1.2.0",
            "_view_count": null,
            "flex_flow": null,
            "width": null,
            "min_width": null,
            "border": null,
            "align_items": null,
            "bottom": null,
            "_model_module": "@jupyter-widgets/base",
            "top": null,
            "grid_column": null,
            "overflow_y": null,
            "overflow_x": null,
            "grid_auto_flow": null,
            "grid_area": null,
            "grid_template_columns": null,
            "flex": null,
            "_model_name": "LayoutModel",
            "justify_items": null,
            "grid_row": null,
            "max_height": null,
            "align_content": null,
            "visibility": null,
            "align_self": null,
            "height": null,
            "min_height": null,
            "padding": null,
            "grid_auto_rows": null,
            "grid_gap": null,
            "max_width": null,
            "order": null,
            "_view_module_version": "1.2.0",
            "grid_template_areas": null,
            "object_position": null,
            "object_fit": null,
            "grid_auto_columns": null,
            "margin": null,
            "display": null,
            "left": null
          }
        },
        "345cad44978748f0949dd3eefb22a2be": {
          "model_module": "@jupyter-widgets/controls",
          "model_name": "HBoxModel",
          "state": {
            "_view_name": "HBoxView",
            "_dom_classes": [],
            "_model_name": "HBoxModel",
            "_view_module": "@jupyter-widgets/controls",
            "_model_module_version": "1.5.0",
            "_view_count": null,
            "_view_module_version": "1.5.0",
            "box_style": "",
            "layout": "IPY_MODEL_610c234c950b472aaaf32898394766a9",
            "_model_module": "@jupyter-widgets/controls",
            "children": [
              "IPY_MODEL_2827cda635eb40be8c553a0466cb40f4",
              "IPY_MODEL_6d0817ee49574b60a7a83cca41750ff8"
            ]
          }
        },
        "610c234c950b472aaaf32898394766a9": {
          "model_module": "@jupyter-widgets/base",
          "model_name": "LayoutModel",
          "state": {
            "_view_name": "LayoutView",
            "grid_template_rows": null,
            "right": null,
            "justify_content": null,
            "_view_module": "@jupyter-widgets/base",
            "overflow": null,
            "_model_module_version": "1.2.0",
            "_view_count": null,
            "flex_flow": null,
            "width": null,
            "min_width": null,
            "border": null,
            "align_items": null,
            "bottom": null,
            "_model_module": "@jupyter-widgets/base",
            "top": null,
            "grid_column": null,
            "overflow_y": null,
            "overflow_x": null,
            "grid_auto_flow": null,
            "grid_area": null,
            "grid_template_columns": null,
            "flex": null,
            "_model_name": "LayoutModel",
            "justify_items": null,
            "grid_row": null,
            "max_height": null,
            "align_content": null,
            "visibility": null,
            "align_self": null,
            "height": null,
            "min_height": null,
            "padding": null,
            "grid_auto_rows": null,
            "grid_gap": null,
            "max_width": null,
            "order": null,
            "_view_module_version": "1.2.0",
            "grid_template_areas": null,
            "object_position": null,
            "object_fit": null,
            "grid_auto_columns": null,
            "margin": null,
            "display": null,
            "left": null
          }
        },
        "2827cda635eb40be8c553a0466cb40f4": {
          "model_module": "@jupyter-widgets/controls",
          "model_name": "FloatProgressModel",
          "state": {
            "_view_name": "ProgressView",
            "style": "IPY_MODEL_d2e923ca40fe45818437f32391fc2128",
            "_dom_classes": [],
            "description": "",
            "_model_name": "FloatProgressModel",
            "bar_style": "success",
            "max": 1,
            "_view_module": "@jupyter-widgets/controls",
            "_model_module_version": "1.5.0",
            "value": 1,
            "_view_count": null,
            "_view_module_version": "1.5.0",
            "orientation": "horizontal",
            "min": 0,
            "description_tooltip": null,
            "_model_module": "@jupyter-widgets/controls",
            "layout": "IPY_MODEL_1612c550353b44e281e717c208fab1db"
          }
        },
        "6d0817ee49574b60a7a83cca41750ff8": {
          "model_module": "@jupyter-widgets/controls",
          "model_name": "HTMLModel",
          "state": {
            "_view_name": "HTMLView",
            "style": "IPY_MODEL_2c417449dc934848a072f5fe185144b9",
            "_dom_classes": [],
            "description": "",
            "_model_name": "HTMLModel",
            "placeholder": "​",
            "_view_module": "@jupyter-widgets/controls",
            "_model_module_version": "1.5.0",
            "value": " 1654784/? [00:00&lt;00:00, 1808411.99it/s]",
            "_view_count": null,
            "_view_module_version": "1.5.0",
            "description_tooltip": null,
            "_model_module": "@jupyter-widgets/controls",
            "layout": "IPY_MODEL_2b86f93244e54eb59478d79bd36cee60"
          }
        },
        "d2e923ca40fe45818437f32391fc2128": {
          "model_module": "@jupyter-widgets/controls",
          "model_name": "ProgressStyleModel",
          "state": {
            "_view_name": "StyleView",
            "_model_name": "ProgressStyleModel",
            "description_width": "initial",
            "_view_module": "@jupyter-widgets/base",
            "_model_module_version": "1.5.0",
            "_view_count": null,
            "_view_module_version": "1.2.0",
            "bar_color": null,
            "_model_module": "@jupyter-widgets/controls"
          }
        },
        "1612c550353b44e281e717c208fab1db": {
          "model_module": "@jupyter-widgets/base",
          "model_name": "LayoutModel",
          "state": {
            "_view_name": "LayoutView",
            "grid_template_rows": null,
            "right": null,
            "justify_content": null,
            "_view_module": "@jupyter-widgets/base",
            "overflow": null,
            "_model_module_version": "1.2.0",
            "_view_count": null,
            "flex_flow": null,
            "width": null,
            "min_width": null,
            "border": null,
            "align_items": null,
            "bottom": null,
            "_model_module": "@jupyter-widgets/base",
            "top": null,
            "grid_column": null,
            "overflow_y": null,
            "overflow_x": null,
            "grid_auto_flow": null,
            "grid_area": null,
            "grid_template_columns": null,
            "flex": null,
            "_model_name": "LayoutModel",
            "justify_items": null,
            "grid_row": null,
            "max_height": null,
            "align_content": null,
            "visibility": null,
            "align_self": null,
            "height": null,
            "min_height": null,
            "padding": null,
            "grid_auto_rows": null,
            "grid_gap": null,
            "max_width": null,
            "order": null,
            "_view_module_version": "1.2.0",
            "grid_template_areas": null,
            "object_position": null,
            "object_fit": null,
            "grid_auto_columns": null,
            "margin": null,
            "display": null,
            "left": null
          }
        },
        "2c417449dc934848a072f5fe185144b9": {
          "model_module": "@jupyter-widgets/controls",
          "model_name": "DescriptionStyleModel",
          "state": {
            "_view_name": "StyleView",
            "_model_name": "DescriptionStyleModel",
            "description_width": "",
            "_view_module": "@jupyter-widgets/base",
            "_model_module_version": "1.5.0",
            "_view_count": null,
            "_view_module_version": "1.2.0",
            "_model_module": "@jupyter-widgets/controls"
          }
        },
        "2b86f93244e54eb59478d79bd36cee60": {
          "model_module": "@jupyter-widgets/base",
          "model_name": "LayoutModel",
          "state": {
            "_view_name": "LayoutView",
            "grid_template_rows": null,
            "right": null,
            "justify_content": null,
            "_view_module": "@jupyter-widgets/base",
            "overflow": null,
            "_model_module_version": "1.2.0",
            "_view_count": null,
            "flex_flow": null,
            "width": null,
            "min_width": null,
            "border": null,
            "align_items": null,
            "bottom": null,
            "_model_module": "@jupyter-widgets/base",
            "top": null,
            "grid_column": null,
            "overflow_y": null,
            "overflow_x": null,
            "grid_auto_flow": null,
            "grid_area": null,
            "grid_template_columns": null,
            "flex": null,
            "_model_name": "LayoutModel",
            "justify_items": null,
            "grid_row": null,
            "max_height": null,
            "align_content": null,
            "visibility": null,
            "align_self": null,
            "height": null,
            "min_height": null,
            "padding": null,
            "grid_auto_rows": null,
            "grid_gap": null,
            "max_width": null,
            "order": null,
            "_view_module_version": "1.2.0",
            "grid_template_areas": null,
            "object_position": null,
            "object_fit": null,
            "grid_auto_columns": null,
            "margin": null,
            "display": null,
            "left": null
          }
        },
        "2f9a8920c0384c82a9f291b0747c0212": {
          "model_module": "@jupyter-widgets/controls",
          "model_name": "HBoxModel",
          "state": {
            "_view_name": "HBoxView",
            "_dom_classes": [],
            "_model_name": "HBoxModel",
            "_view_module": "@jupyter-widgets/controls",
            "_model_module_version": "1.5.0",
            "_view_count": null,
            "_view_module_version": "1.5.0",
            "box_style": "",
            "layout": "IPY_MODEL_1e0f284c16a141188fc092e8804738ce",
            "_model_module": "@jupyter-widgets/controls",
            "children": [
              "IPY_MODEL_66e7cab04400458388b76d51fadb97d4",
              "IPY_MODEL_efedf94a703242118b4ccdd44259fcaf"
            ]
          }
        },
        "1e0f284c16a141188fc092e8804738ce": {
          "model_module": "@jupyter-widgets/base",
          "model_name": "LayoutModel",
          "state": {
            "_view_name": "LayoutView",
            "grid_template_rows": null,
            "right": null,
            "justify_content": null,
            "_view_module": "@jupyter-widgets/base",
            "overflow": null,
            "_model_module_version": "1.2.0",
            "_view_count": null,
            "flex_flow": null,
            "width": null,
            "min_width": null,
            "border": null,
            "align_items": null,
            "bottom": null,
            "_model_module": "@jupyter-widgets/base",
            "top": null,
            "grid_column": null,
            "overflow_y": null,
            "overflow_x": null,
            "grid_auto_flow": null,
            "grid_area": null,
            "grid_template_columns": null,
            "flex": null,
            "_model_name": "LayoutModel",
            "justify_items": null,
            "grid_row": null,
            "max_height": null,
            "align_content": null,
            "visibility": null,
            "align_self": null,
            "height": null,
            "min_height": null,
            "padding": null,
            "grid_auto_rows": null,
            "grid_gap": null,
            "max_width": null,
            "order": null,
            "_view_module_version": "1.2.0",
            "grid_template_areas": null,
            "object_position": null,
            "object_fit": null,
            "grid_auto_columns": null,
            "margin": null,
            "display": null,
            "left": null
          }
        },
        "66e7cab04400458388b76d51fadb97d4": {
          "model_module": "@jupyter-widgets/controls",
          "model_name": "FloatProgressModel",
          "state": {
            "_view_name": "ProgressView",
            "style": "IPY_MODEL_33aa13a8d106445bbc61a58993e62fe9",
            "_dom_classes": [],
            "description": "",
            "_model_name": "FloatProgressModel",
            "bar_style": "success",
            "max": 1,
            "_view_module": "@jupyter-widgets/controls",
            "_model_module_version": "1.5.0",
            "value": 1,
            "_view_count": null,
            "_view_module_version": "1.5.0",
            "orientation": "horizontal",
            "min": 0,
            "description_tooltip": null,
            "_model_module": "@jupyter-widgets/controls",
            "layout": "IPY_MODEL_512ac2a9aedc48c1b0e51d370c80010e"
          }
        },
        "efedf94a703242118b4ccdd44259fcaf": {
          "model_module": "@jupyter-widgets/controls",
          "model_name": "HTMLModel",
          "state": {
            "_view_name": "HTMLView",
            "style": "IPY_MODEL_d1ff5a0a7e4f41438e89c4c070206582",
            "_dom_classes": [],
            "description": "",
            "_model_name": "HTMLModel",
            "placeholder": "​",
            "_view_module": "@jupyter-widgets/controls",
            "_model_module_version": "1.5.0",
            "value": " 8192/? [00:00&lt;00:00, 38931.90it/s]",
            "_view_count": null,
            "_view_module_version": "1.5.0",
            "description_tooltip": null,
            "_model_module": "@jupyter-widgets/controls",
            "layout": "IPY_MODEL_ce41a2eb4236458f9ce474dda1de7577"
          }
        },
        "33aa13a8d106445bbc61a58993e62fe9": {
          "model_module": "@jupyter-widgets/controls",
          "model_name": "ProgressStyleModel",
          "state": {
            "_view_name": "StyleView",
            "_model_name": "ProgressStyleModel",
            "description_width": "initial",
            "_view_module": "@jupyter-widgets/base",
            "_model_module_version": "1.5.0",
            "_view_count": null,
            "_view_module_version": "1.2.0",
            "bar_color": null,
            "_model_module": "@jupyter-widgets/controls"
          }
        },
        "512ac2a9aedc48c1b0e51d370c80010e": {
          "model_module": "@jupyter-widgets/base",
          "model_name": "LayoutModel",
          "state": {
            "_view_name": "LayoutView",
            "grid_template_rows": null,
            "right": null,
            "justify_content": null,
            "_view_module": "@jupyter-widgets/base",
            "overflow": null,
            "_model_module_version": "1.2.0",
            "_view_count": null,
            "flex_flow": null,
            "width": null,
            "min_width": null,
            "border": null,
            "align_items": null,
            "bottom": null,
            "_model_module": "@jupyter-widgets/base",
            "top": null,
            "grid_column": null,
            "overflow_y": null,
            "overflow_x": null,
            "grid_auto_flow": null,
            "grid_area": null,
            "grid_template_columns": null,
            "flex": null,
            "_model_name": "LayoutModel",
            "justify_items": null,
            "grid_row": null,
            "max_height": null,
            "align_content": null,
            "visibility": null,
            "align_self": null,
            "height": null,
            "min_height": null,
            "padding": null,
            "grid_auto_rows": null,
            "grid_gap": null,
            "max_width": null,
            "order": null,
            "_view_module_version": "1.2.0",
            "grid_template_areas": null,
            "object_position": null,
            "object_fit": null,
            "grid_auto_columns": null,
            "margin": null,
            "display": null,
            "left": null
          }
        },
        "d1ff5a0a7e4f41438e89c4c070206582": {
          "model_module": "@jupyter-widgets/controls",
          "model_name": "DescriptionStyleModel",
          "state": {
            "_view_name": "StyleView",
            "_model_name": "DescriptionStyleModel",
            "description_width": "",
            "_view_module": "@jupyter-widgets/base",
            "_model_module_version": "1.5.0",
            "_view_count": null,
            "_view_module_version": "1.2.0",
            "_model_module": "@jupyter-widgets/controls"
          }
        },
        "ce41a2eb4236458f9ce474dda1de7577": {
          "model_module": "@jupyter-widgets/base",
          "model_name": "LayoutModel",
          "state": {
            "_view_name": "LayoutView",
            "grid_template_rows": null,
            "right": null,
            "justify_content": null,
            "_view_module": "@jupyter-widgets/base",
            "overflow": null,
            "_model_module_version": "1.2.0",
            "_view_count": null,
            "flex_flow": null,
            "width": null,
            "min_width": null,
            "border": null,
            "align_items": null,
            "bottom": null,
            "_model_module": "@jupyter-widgets/base",
            "top": null,
            "grid_column": null,
            "overflow_y": null,
            "overflow_x": null,
            "grid_auto_flow": null,
            "grid_area": null,
            "grid_template_columns": null,
            "flex": null,
            "_model_name": "LayoutModel",
            "justify_items": null,
            "grid_row": null,
            "max_height": null,
            "align_content": null,
            "visibility": null,
            "align_self": null,
            "height": null,
            "min_height": null,
            "padding": null,
            "grid_auto_rows": null,
            "grid_gap": null,
            "max_width": null,
            "order": null,
            "_view_module_version": "1.2.0",
            "grid_template_areas": null,
            "object_position": null,
            "object_fit": null,
            "grid_auto_columns": null,
            "margin": null,
            "display": null,
            "left": null
          }
        },
        "3e29b0d84bf644bd891f6a2f78f34a7f": {
          "model_module": "@jupyter-widgets/controls",
          "model_name": "HBoxModel",
          "state": {
            "_view_name": "HBoxView",
            "_dom_classes": [],
            "_model_name": "HBoxModel",
            "_view_module": "@jupyter-widgets/controls",
            "_model_module_version": "1.5.0",
            "_view_count": null,
            "_view_module_version": "1.5.0",
            "box_style": "",
            "layout": "IPY_MODEL_12a6f5c41a5d4a45989314ff9261b046",
            "_model_module": "@jupyter-widgets/controls",
            "children": [
              "IPY_MODEL_9bbf54acf3954fa184cf954a5e984787",
              "IPY_MODEL_91275d622f81402999302d2f5d912230"
            ]
          }
        },
        "12a6f5c41a5d4a45989314ff9261b046": {
          "model_module": "@jupyter-widgets/base",
          "model_name": "LayoutModel",
          "state": {
            "_view_name": "LayoutView",
            "grid_template_rows": null,
            "right": null,
            "justify_content": null,
            "_view_module": "@jupyter-widgets/base",
            "overflow": null,
            "_model_module_version": "1.2.0",
            "_view_count": null,
            "flex_flow": null,
            "width": null,
            "min_width": null,
            "border": null,
            "align_items": null,
            "bottom": null,
            "_model_module": "@jupyter-widgets/base",
            "top": null,
            "grid_column": null,
            "overflow_y": null,
            "overflow_x": null,
            "grid_auto_flow": null,
            "grid_area": null,
            "grid_template_columns": null,
            "flex": null,
            "_model_name": "LayoutModel",
            "justify_items": null,
            "grid_row": null,
            "max_height": null,
            "align_content": null,
            "visibility": null,
            "align_self": null,
            "height": null,
            "min_height": null,
            "padding": null,
            "grid_auto_rows": null,
            "grid_gap": null,
            "max_width": null,
            "order": null,
            "_view_module_version": "1.2.0",
            "grid_template_areas": null,
            "object_position": null,
            "object_fit": null,
            "grid_auto_columns": null,
            "margin": null,
            "display": null,
            "left": null
          }
        },
        "9bbf54acf3954fa184cf954a5e984787": {
          "model_module": "@jupyter-widgets/controls",
          "model_name": "FloatProgressModel",
          "state": {
            "_view_name": "ProgressView",
            "style": "IPY_MODEL_301f8626e19f4693b3927dac0aa6283e",
            "_dom_classes": [],
            "description": "",
            "_model_name": "FloatProgressModel",
            "bar_style": "success",
            "max": 1,
            "_view_module": "@jupyter-widgets/controls",
            "_model_module_version": "1.5.0",
            "value": 1,
            "_view_count": null,
            "_view_module_version": "1.5.0",
            "orientation": "horizontal",
            "min": 0,
            "description_tooltip": null,
            "_model_module": "@jupyter-widgets/controls",
            "layout": "IPY_MODEL_5fafbbef6c0345f193dd945bcdbe61ec"
          }
        },
        "91275d622f81402999302d2f5d912230": {
          "model_module": "@jupyter-widgets/controls",
          "model_name": "HTMLModel",
          "state": {
            "_view_name": "HTMLView",
            "style": "IPY_MODEL_9c40a817a3ec48d59eff5878f6d58913",
            "_dom_classes": [],
            "description": "",
            "_model_name": "HTMLModel",
            "placeholder": "​",
            "_view_module": "@jupyter-widgets/controls",
            "_model_module_version": "1.5.0",
            "value": " 9920512/? [00:04&lt;00:00, 2366119.25it/s]",
            "_view_count": null,
            "_view_module_version": "1.5.0",
            "description_tooltip": null,
            "_model_module": "@jupyter-widgets/controls",
            "layout": "IPY_MODEL_933dbbc2fd0842d089e6b1e8e25dd045"
          }
        },
        "301f8626e19f4693b3927dac0aa6283e": {
          "model_module": "@jupyter-widgets/controls",
          "model_name": "ProgressStyleModel",
          "state": {
            "_view_name": "StyleView",
            "_model_name": "ProgressStyleModel",
            "description_width": "initial",
            "_view_module": "@jupyter-widgets/base",
            "_model_module_version": "1.5.0",
            "_view_count": null,
            "_view_module_version": "1.2.0",
            "bar_color": null,
            "_model_module": "@jupyter-widgets/controls"
          }
        },
        "5fafbbef6c0345f193dd945bcdbe61ec": {
          "model_module": "@jupyter-widgets/base",
          "model_name": "LayoutModel",
          "state": {
            "_view_name": "LayoutView",
            "grid_template_rows": null,
            "right": null,
            "justify_content": null,
            "_view_module": "@jupyter-widgets/base",
            "overflow": null,
            "_model_module_version": "1.2.0",
            "_view_count": null,
            "flex_flow": null,
            "width": null,
            "min_width": null,
            "border": null,
            "align_items": null,
            "bottom": null,
            "_model_module": "@jupyter-widgets/base",
            "top": null,
            "grid_column": null,
            "overflow_y": null,
            "overflow_x": null,
            "grid_auto_flow": null,
            "grid_area": null,
            "grid_template_columns": null,
            "flex": null,
            "_model_name": "LayoutModel",
            "justify_items": null,
            "grid_row": null,
            "max_height": null,
            "align_content": null,
            "visibility": null,
            "align_self": null,
            "height": null,
            "min_height": null,
            "padding": null,
            "grid_auto_rows": null,
            "grid_gap": null,
            "max_width": null,
            "order": null,
            "_view_module_version": "1.2.0",
            "grid_template_areas": null,
            "object_position": null,
            "object_fit": null,
            "grid_auto_columns": null,
            "margin": null,
            "display": null,
            "left": null
          }
        },
        "9c40a817a3ec48d59eff5878f6d58913": {
          "model_module": "@jupyter-widgets/controls",
          "model_name": "DescriptionStyleModel",
          "state": {
            "_view_name": "StyleView",
            "_model_name": "DescriptionStyleModel",
            "description_width": "",
            "_view_module": "@jupyter-widgets/base",
            "_model_module_version": "1.5.0",
            "_view_count": null,
            "_view_module_version": "1.2.0",
            "_model_module": "@jupyter-widgets/controls"
          }
        },
        "933dbbc2fd0842d089e6b1e8e25dd045": {
          "model_module": "@jupyter-widgets/base",
          "model_name": "LayoutModel",
          "state": {
            "_view_name": "LayoutView",
            "grid_template_rows": null,
            "right": null,
            "justify_content": null,
            "_view_module": "@jupyter-widgets/base",
            "overflow": null,
            "_model_module_version": "1.2.0",
            "_view_count": null,
            "flex_flow": null,
            "width": null,
            "min_width": null,
            "border": null,
            "align_items": null,
            "bottom": null,
            "_model_module": "@jupyter-widgets/base",
            "top": null,
            "grid_column": null,
            "overflow_y": null,
            "overflow_x": null,
            "grid_auto_flow": null,
            "grid_area": null,
            "grid_template_columns": null,
            "flex": null,
            "_model_name": "LayoutModel",
            "justify_items": null,
            "grid_row": null,
            "max_height": null,
            "align_content": null,
            "visibility": null,
            "align_self": null,
            "height": null,
            "min_height": null,
            "padding": null,
            "grid_auto_rows": null,
            "grid_gap": null,
            "max_width": null,
            "order": null,
            "_view_module_version": "1.2.0",
            "grid_template_areas": null,
            "object_position": null,
            "object_fit": null,
            "grid_auto_columns": null,
            "margin": null,
            "display": null,
            "left": null
          }
        },
        "c17ecd510a074976897263d56fe3067e": {
          "model_module": "@jupyter-widgets/controls",
          "model_name": "HBoxModel",
          "state": {
            "_view_name": "HBoxView",
            "_dom_classes": [],
            "_model_name": "HBoxModel",
            "_view_module": "@jupyter-widgets/controls",
            "_model_module_version": "1.5.0",
            "_view_count": null,
            "_view_module_version": "1.5.0",
            "box_style": "",
            "layout": "IPY_MODEL_6efe69997880439ca289e6ee23e52cc4",
            "_model_module": "@jupyter-widgets/controls",
            "children": [
              "IPY_MODEL_0cc68e75a7414872865f23c59199ecda",
              "IPY_MODEL_08f76f1308e446b38a305ad05768a561"
            ]
          }
        },
        "6efe69997880439ca289e6ee23e52cc4": {
          "model_module": "@jupyter-widgets/base",
          "model_name": "LayoutModel",
          "state": {
            "_view_name": "LayoutView",
            "grid_template_rows": null,
            "right": null,
            "justify_content": null,
            "_view_module": "@jupyter-widgets/base",
            "overflow": null,
            "_model_module_version": "1.2.0",
            "_view_count": null,
            "flex_flow": null,
            "width": null,
            "min_width": null,
            "border": null,
            "align_items": null,
            "bottom": null,
            "_model_module": "@jupyter-widgets/base",
            "top": null,
            "grid_column": null,
            "overflow_y": null,
            "overflow_x": null,
            "grid_auto_flow": null,
            "grid_area": null,
            "grid_template_columns": null,
            "flex": null,
            "_model_name": "LayoutModel",
            "justify_items": null,
            "grid_row": null,
            "max_height": null,
            "align_content": null,
            "visibility": null,
            "align_self": null,
            "height": null,
            "min_height": null,
            "padding": null,
            "grid_auto_rows": null,
            "grid_gap": null,
            "max_width": null,
            "order": null,
            "_view_module_version": "1.2.0",
            "grid_template_areas": null,
            "object_position": null,
            "object_fit": null,
            "grid_auto_columns": null,
            "margin": null,
            "display": null,
            "left": null
          }
        },
        "0cc68e75a7414872865f23c59199ecda": {
          "model_module": "@jupyter-widgets/controls",
          "model_name": "FloatProgressModel",
          "state": {
            "_view_name": "ProgressView",
            "style": "IPY_MODEL_be830de0e952450893db3104b883e95b",
            "_dom_classes": [],
            "description": "",
            "_model_name": "FloatProgressModel",
            "bar_style": "success",
            "max": 1,
            "_view_module": "@jupyter-widgets/controls",
            "_model_module_version": "1.5.0",
            "value": 1,
            "_view_count": null,
            "_view_module_version": "1.5.0",
            "orientation": "horizontal",
            "min": 0,
            "description_tooltip": null,
            "_model_module": "@jupyter-widgets/controls",
            "layout": "IPY_MODEL_d1ec098daae4496786eed377520e37c9"
          }
        },
        "08f76f1308e446b38a305ad05768a561": {
          "model_module": "@jupyter-widgets/controls",
          "model_name": "HTMLModel",
          "state": {
            "_view_name": "HTMLView",
            "style": "IPY_MODEL_0a723b81a6f44b1dbb5875719dd1e36d",
            "_dom_classes": [],
            "description": "",
            "_model_name": "HTMLModel",
            "placeholder": "​",
            "_view_module": "@jupyter-widgets/controls",
            "_model_module_version": "1.5.0",
            "value": " 32768/? [00:01&lt;00:00, 31298.51it/s]",
            "_view_count": null,
            "_view_module_version": "1.5.0",
            "description_tooltip": null,
            "_model_module": "@jupyter-widgets/controls",
            "layout": "IPY_MODEL_4b582ceb82ab4a2e802daee2e613c228"
          }
        },
        "be830de0e952450893db3104b883e95b": {
          "model_module": "@jupyter-widgets/controls",
          "model_name": "ProgressStyleModel",
          "state": {
            "_view_name": "StyleView",
            "_model_name": "ProgressStyleModel",
            "description_width": "initial",
            "_view_module": "@jupyter-widgets/base",
            "_model_module_version": "1.5.0",
            "_view_count": null,
            "_view_module_version": "1.2.0",
            "bar_color": null,
            "_model_module": "@jupyter-widgets/controls"
          }
        },
        "d1ec098daae4496786eed377520e37c9": {
          "model_module": "@jupyter-widgets/base",
          "model_name": "LayoutModel",
          "state": {
            "_view_name": "LayoutView",
            "grid_template_rows": null,
            "right": null,
            "justify_content": null,
            "_view_module": "@jupyter-widgets/base",
            "overflow": null,
            "_model_module_version": "1.2.0",
            "_view_count": null,
            "flex_flow": null,
            "width": null,
            "min_width": null,
            "border": null,
            "align_items": null,
            "bottom": null,
            "_model_module": "@jupyter-widgets/base",
            "top": null,
            "grid_column": null,
            "overflow_y": null,
            "overflow_x": null,
            "grid_auto_flow": null,
            "grid_area": null,
            "grid_template_columns": null,
            "flex": null,
            "_model_name": "LayoutModel",
            "justify_items": null,
            "grid_row": null,
            "max_height": null,
            "align_content": null,
            "visibility": null,
            "align_self": null,
            "height": null,
            "min_height": null,
            "padding": null,
            "grid_auto_rows": null,
            "grid_gap": null,
            "max_width": null,
            "order": null,
            "_view_module_version": "1.2.0",
            "grid_template_areas": null,
            "object_position": null,
            "object_fit": null,
            "grid_auto_columns": null,
            "margin": null,
            "display": null,
            "left": null
          }
        },
        "0a723b81a6f44b1dbb5875719dd1e36d": {
          "model_module": "@jupyter-widgets/controls",
          "model_name": "DescriptionStyleModel",
          "state": {
            "_view_name": "StyleView",
            "_model_name": "DescriptionStyleModel",
            "description_width": "",
            "_view_module": "@jupyter-widgets/base",
            "_model_module_version": "1.5.0",
            "_view_count": null,
            "_view_module_version": "1.2.0",
            "_model_module": "@jupyter-widgets/controls"
          }
        },
        "4b582ceb82ab4a2e802daee2e613c228": {
          "model_module": "@jupyter-widgets/base",
          "model_name": "LayoutModel",
          "state": {
            "_view_name": "LayoutView",
            "grid_template_rows": null,
            "right": null,
            "justify_content": null,
            "_view_module": "@jupyter-widgets/base",
            "overflow": null,
            "_model_module_version": "1.2.0",
            "_view_count": null,
            "flex_flow": null,
            "width": null,
            "min_width": null,
            "border": null,
            "align_items": null,
            "bottom": null,
            "_model_module": "@jupyter-widgets/base",
            "top": null,
            "grid_column": null,
            "overflow_y": null,
            "overflow_x": null,
            "grid_auto_flow": null,
            "grid_area": null,
            "grid_template_columns": null,
            "flex": null,
            "_model_name": "LayoutModel",
            "justify_items": null,
            "grid_row": null,
            "max_height": null,
            "align_content": null,
            "visibility": null,
            "align_self": null,
            "height": null,
            "min_height": null,
            "padding": null,
            "grid_auto_rows": null,
            "grid_gap": null,
            "max_width": null,
            "order": null,
            "_view_module_version": "1.2.0",
            "grid_template_areas": null,
            "object_position": null,
            "object_fit": null,
            "grid_auto_columns": null,
            "margin": null,
            "display": null,
            "left": null
          }
        },
        "6f4472b529cb49cfbe7f1b3bedd8b1d8": {
          "model_module": "@jupyter-widgets/controls",
          "model_name": "HBoxModel",
          "state": {
            "_view_name": "HBoxView",
            "_dom_classes": [],
            "_model_name": "HBoxModel",
            "_view_module": "@jupyter-widgets/controls",
            "_model_module_version": "1.5.0",
            "_view_count": null,
            "_view_module_version": "1.5.0",
            "box_style": "",
            "layout": "IPY_MODEL_15002cc45f49447893e57f1bcd908b07",
            "_model_module": "@jupyter-widgets/controls",
            "children": [
              "IPY_MODEL_456980a770064635bd4c75e675d01fa3",
              "IPY_MODEL_9f9026b742f144f384723bc9aa45c1e5"
            ]
          }
        },
        "15002cc45f49447893e57f1bcd908b07": {
          "model_module": "@jupyter-widgets/base",
          "model_name": "LayoutModel",
          "state": {
            "_view_name": "LayoutView",
            "grid_template_rows": null,
            "right": null,
            "justify_content": null,
            "_view_module": "@jupyter-widgets/base",
            "overflow": null,
            "_model_module_version": "1.2.0",
            "_view_count": null,
            "flex_flow": null,
            "width": null,
            "min_width": null,
            "border": null,
            "align_items": null,
            "bottom": null,
            "_model_module": "@jupyter-widgets/base",
            "top": null,
            "grid_column": null,
            "overflow_y": null,
            "overflow_x": null,
            "grid_auto_flow": null,
            "grid_area": null,
            "grid_template_columns": null,
            "flex": null,
            "_model_name": "LayoutModel",
            "justify_items": null,
            "grid_row": null,
            "max_height": null,
            "align_content": null,
            "visibility": null,
            "align_self": null,
            "height": null,
            "min_height": null,
            "padding": null,
            "grid_auto_rows": null,
            "grid_gap": null,
            "max_width": null,
            "order": null,
            "_view_module_version": "1.2.0",
            "grid_template_areas": null,
            "object_position": null,
            "object_fit": null,
            "grid_auto_columns": null,
            "margin": null,
            "display": null,
            "left": null
          }
        },
        "456980a770064635bd4c75e675d01fa3": {
          "model_module": "@jupyter-widgets/controls",
          "model_name": "FloatProgressModel",
          "state": {
            "_view_name": "ProgressView",
            "style": "IPY_MODEL_596007dd7c904f4894f31faa6f91c2b5",
            "_dom_classes": [],
            "description": "",
            "_model_name": "FloatProgressModel",
            "bar_style": "success",
            "max": 1,
            "_view_module": "@jupyter-widgets/controls",
            "_model_module_version": "1.5.0",
            "value": 1,
            "_view_count": null,
            "_view_module_version": "1.5.0",
            "orientation": "horizontal",
            "min": 0,
            "description_tooltip": null,
            "_model_module": "@jupyter-widgets/controls",
            "layout": "IPY_MODEL_0e29a3ed8ec5467d835194a0b845e4bc"
          }
        },
        "9f9026b742f144f384723bc9aa45c1e5": {
          "model_module": "@jupyter-widgets/controls",
          "model_name": "HTMLModel",
          "state": {
            "_view_name": "HTMLView",
            "style": "IPY_MODEL_14e1691785554d4c84db34e505d654ee",
            "_dom_classes": [],
            "description": "",
            "_model_name": "HTMLModel",
            "placeholder": "​",
            "_view_module": "@jupyter-widgets/controls",
            "_model_module_version": "1.5.0",
            "value": " 1654784/? [00:00&lt;00:00, 2293966.01it/s]",
            "_view_count": null,
            "_view_module_version": "1.5.0",
            "description_tooltip": null,
            "_model_module": "@jupyter-widgets/controls",
            "layout": "IPY_MODEL_a50d72964e1d4850a93ca07c42b7a729"
          }
        },
        "596007dd7c904f4894f31faa6f91c2b5": {
          "model_module": "@jupyter-widgets/controls",
          "model_name": "ProgressStyleModel",
          "state": {
            "_view_name": "StyleView",
            "_model_name": "ProgressStyleModel",
            "description_width": "initial",
            "_view_module": "@jupyter-widgets/base",
            "_model_module_version": "1.5.0",
            "_view_count": null,
            "_view_module_version": "1.2.0",
            "bar_color": null,
            "_model_module": "@jupyter-widgets/controls"
          }
        },
        "0e29a3ed8ec5467d835194a0b845e4bc": {
          "model_module": "@jupyter-widgets/base",
          "model_name": "LayoutModel",
          "state": {
            "_view_name": "LayoutView",
            "grid_template_rows": null,
            "right": null,
            "justify_content": null,
            "_view_module": "@jupyter-widgets/base",
            "overflow": null,
            "_model_module_version": "1.2.0",
            "_view_count": null,
            "flex_flow": null,
            "width": null,
            "min_width": null,
            "border": null,
            "align_items": null,
            "bottom": null,
            "_model_module": "@jupyter-widgets/base",
            "top": null,
            "grid_column": null,
            "overflow_y": null,
            "overflow_x": null,
            "grid_auto_flow": null,
            "grid_area": null,
            "grid_template_columns": null,
            "flex": null,
            "_model_name": "LayoutModel",
            "justify_items": null,
            "grid_row": null,
            "max_height": null,
            "align_content": null,
            "visibility": null,
            "align_self": null,
            "height": null,
            "min_height": null,
            "padding": null,
            "grid_auto_rows": null,
            "grid_gap": null,
            "max_width": null,
            "order": null,
            "_view_module_version": "1.2.0",
            "grid_template_areas": null,
            "object_position": null,
            "object_fit": null,
            "grid_auto_columns": null,
            "margin": null,
            "display": null,
            "left": null
          }
        },
        "14e1691785554d4c84db34e505d654ee": {
          "model_module": "@jupyter-widgets/controls",
          "model_name": "DescriptionStyleModel",
          "state": {
            "_view_name": "StyleView",
            "_model_name": "DescriptionStyleModel",
            "description_width": "",
            "_view_module": "@jupyter-widgets/base",
            "_model_module_version": "1.5.0",
            "_view_count": null,
            "_view_module_version": "1.2.0",
            "_model_module": "@jupyter-widgets/controls"
          }
        },
        "a50d72964e1d4850a93ca07c42b7a729": {
          "model_module": "@jupyter-widgets/base",
          "model_name": "LayoutModel",
          "state": {
            "_view_name": "LayoutView",
            "grid_template_rows": null,
            "right": null,
            "justify_content": null,
            "_view_module": "@jupyter-widgets/base",
            "overflow": null,
            "_model_module_version": "1.2.0",
            "_view_count": null,
            "flex_flow": null,
            "width": null,
            "min_width": null,
            "border": null,
            "align_items": null,
            "bottom": null,
            "_model_module": "@jupyter-widgets/base",
            "top": null,
            "grid_column": null,
            "overflow_y": null,
            "overflow_x": null,
            "grid_auto_flow": null,
            "grid_area": null,
            "grid_template_columns": null,
            "flex": null,
            "_model_name": "LayoutModel",
            "justify_items": null,
            "grid_row": null,
            "max_height": null,
            "align_content": null,
            "visibility": null,
            "align_self": null,
            "height": null,
            "min_height": null,
            "padding": null,
            "grid_auto_rows": null,
            "grid_gap": null,
            "max_width": null,
            "order": null,
            "_view_module_version": "1.2.0",
            "grid_template_areas": null,
            "object_position": null,
            "object_fit": null,
            "grid_auto_columns": null,
            "margin": null,
            "display": null,
            "left": null
          }
        },
        "50750c7b23104e4991cd840e76520f30": {
          "model_module": "@jupyter-widgets/controls",
          "model_name": "HBoxModel",
          "state": {
            "_view_name": "HBoxView",
            "_dom_classes": [],
            "_model_name": "HBoxModel",
            "_view_module": "@jupyter-widgets/controls",
            "_model_module_version": "1.5.0",
            "_view_count": null,
            "_view_module_version": "1.5.0",
            "box_style": "",
            "layout": "IPY_MODEL_af31de92bda9409d8b28e41a8e86d779",
            "_model_module": "@jupyter-widgets/controls",
            "children": [
              "IPY_MODEL_be551c547b2049f3a5d78d73683027d4",
              "IPY_MODEL_7cb829cb3fb84bdeb5a13440255cea88"
            ]
          }
        },
        "af31de92bda9409d8b28e41a8e86d779": {
          "model_module": "@jupyter-widgets/base",
          "model_name": "LayoutModel",
          "state": {
            "_view_name": "LayoutView",
            "grid_template_rows": null,
            "right": null,
            "justify_content": null,
            "_view_module": "@jupyter-widgets/base",
            "overflow": null,
            "_model_module_version": "1.2.0",
            "_view_count": null,
            "flex_flow": null,
            "width": null,
            "min_width": null,
            "border": null,
            "align_items": null,
            "bottom": null,
            "_model_module": "@jupyter-widgets/base",
            "top": null,
            "grid_column": null,
            "overflow_y": null,
            "overflow_x": null,
            "grid_auto_flow": null,
            "grid_area": null,
            "grid_template_columns": null,
            "flex": null,
            "_model_name": "LayoutModel",
            "justify_items": null,
            "grid_row": null,
            "max_height": null,
            "align_content": null,
            "visibility": null,
            "align_self": null,
            "height": null,
            "min_height": null,
            "padding": null,
            "grid_auto_rows": null,
            "grid_gap": null,
            "max_width": null,
            "order": null,
            "_view_module_version": "1.2.0",
            "grid_template_areas": null,
            "object_position": null,
            "object_fit": null,
            "grid_auto_columns": null,
            "margin": null,
            "display": null,
            "left": null
          }
        },
        "be551c547b2049f3a5d78d73683027d4": {
          "model_module": "@jupyter-widgets/controls",
          "model_name": "FloatProgressModel",
          "state": {
            "_view_name": "ProgressView",
            "style": "IPY_MODEL_14ca3d99e0974a699ba038b51faa063c",
            "_dom_classes": [],
            "description": "  0%",
            "_model_name": "FloatProgressModel",
            "bar_style": "info",
            "max": 1,
            "_view_module": "@jupyter-widgets/controls",
            "_model_module_version": "1.5.0",
            "value": 0,
            "_view_count": null,
            "_view_module_version": "1.5.0",
            "orientation": "horizontal",
            "min": 0,
            "description_tooltip": null,
            "_model_module": "@jupyter-widgets/controls",
            "layout": "IPY_MODEL_04ad2e6c525d464da54502098ff1b2c4"
          }
        },
        "7cb829cb3fb84bdeb5a13440255cea88": {
          "model_module": "@jupyter-widgets/controls",
          "model_name": "HTMLModel",
          "state": {
            "_view_name": "HTMLView",
            "style": "IPY_MODEL_157c65a07cc048cb92f070a5ce77b0ef",
            "_dom_classes": [],
            "description": "",
            "_model_name": "HTMLModel",
            "placeholder": "​",
            "_view_module": "@jupyter-widgets/controls",
            "_model_module_version": "1.5.0",
            "value": " 0/4542 [00:00&lt;?, ?it/s]",
            "_view_count": null,
            "_view_module_version": "1.5.0",
            "description_tooltip": null,
            "_model_module": "@jupyter-widgets/controls",
            "layout": "IPY_MODEL_44b53fc3f3d54816b5d6cf78f53a2733"
          }
        },
        "14ca3d99e0974a699ba038b51faa063c": {
          "model_module": "@jupyter-widgets/controls",
          "model_name": "ProgressStyleModel",
          "state": {
            "_view_name": "StyleView",
            "_model_name": "ProgressStyleModel",
            "description_width": "initial",
            "_view_module": "@jupyter-widgets/base",
            "_model_module_version": "1.5.0",
            "_view_count": null,
            "_view_module_version": "1.2.0",
            "bar_color": null,
            "_model_module": "@jupyter-widgets/controls"
          }
        },
        "04ad2e6c525d464da54502098ff1b2c4": {
          "model_module": "@jupyter-widgets/base",
          "model_name": "LayoutModel",
          "state": {
            "_view_name": "LayoutView",
            "grid_template_rows": null,
            "right": null,
            "justify_content": null,
            "_view_module": "@jupyter-widgets/base",
            "overflow": null,
            "_model_module_version": "1.2.0",
            "_view_count": null,
            "flex_flow": null,
            "width": null,
            "min_width": null,
            "border": null,
            "align_items": null,
            "bottom": null,
            "_model_module": "@jupyter-widgets/base",
            "top": null,
            "grid_column": null,
            "overflow_y": null,
            "overflow_x": null,
            "grid_auto_flow": null,
            "grid_area": null,
            "grid_template_columns": null,
            "flex": null,
            "_model_name": "LayoutModel",
            "justify_items": null,
            "grid_row": null,
            "max_height": null,
            "align_content": null,
            "visibility": null,
            "align_self": null,
            "height": null,
            "min_height": null,
            "padding": null,
            "grid_auto_rows": null,
            "grid_gap": null,
            "max_width": null,
            "order": null,
            "_view_module_version": "1.2.0",
            "grid_template_areas": null,
            "object_position": null,
            "object_fit": null,
            "grid_auto_columns": null,
            "margin": null,
            "display": null,
            "left": null
          }
        },
        "157c65a07cc048cb92f070a5ce77b0ef": {
          "model_module": "@jupyter-widgets/controls",
          "model_name": "DescriptionStyleModel",
          "state": {
            "_view_name": "StyleView",
            "_model_name": "DescriptionStyleModel",
            "description_width": "",
            "_view_module": "@jupyter-widgets/base",
            "_model_module_version": "1.5.0",
            "_view_count": null,
            "_view_module_version": "1.2.0",
            "_model_module": "@jupyter-widgets/controls"
          }
        },
        "44b53fc3f3d54816b5d6cf78f53a2733": {
          "model_module": "@jupyter-widgets/base",
          "model_name": "LayoutModel",
          "state": {
            "_view_name": "LayoutView",
            "grid_template_rows": null,
            "right": null,
            "justify_content": null,
            "_view_module": "@jupyter-widgets/base",
            "overflow": null,
            "_model_module_version": "1.2.0",
            "_view_count": null,
            "flex_flow": null,
            "width": null,
            "min_width": null,
            "border": null,
            "align_items": null,
            "bottom": null,
            "_model_module": "@jupyter-widgets/base",
            "top": null,
            "grid_column": null,
            "overflow_y": null,
            "overflow_x": null,
            "grid_auto_flow": null,
            "grid_area": null,
            "grid_template_columns": null,
            "flex": null,
            "_model_name": "LayoutModel",
            "justify_items": null,
            "grid_row": null,
            "max_height": null,
            "align_content": null,
            "visibility": null,
            "align_self": null,
            "height": null,
            "min_height": null,
            "padding": null,
            "grid_auto_rows": null,
            "grid_gap": null,
            "max_width": null,
            "order": null,
            "_view_module_version": "1.2.0",
            "grid_template_areas": null,
            "object_position": null,
            "object_fit": null,
            "grid_auto_columns": null,
            "margin": null,
            "display": null,
            "left": null
          }
        }
      }
    }
  },
  "cells": [
    {
      "cell_type": "markdown",
      "metadata": {
        "id": "fjVpejWAOH25"
      },
      "source": [
        "# Convolutional Neural Networks\n",
        "\n",
        "In this notebook we will motivate the development and design of convolutional neural networks (CNNs), and define what is meant by the  convolutional operation.\n",
        "\n",
        "## 1. Why Convolutions?\n",
        "\n",
        "The design of CNNs arose from a need to overcome the computational constraints met when upscaling deep learning to the processing of high dimensional images, but took significant inspiration from biological vision networks:\n",
        "\n",
        "<img src=\"https://drive.google.com/uc?id=1BmITbP1fg3G4ifm3eD988QHfGFf6JMxZ\" alt=\"Drawing\" style=\"width: 800px;\"/>\n",
        "\n",
        "For the mammalian visual system (see above fig and [Van Essen et al.](https://www.sciencedirect.com/science/article/abs/pii/0896627394904553) for reference) visual stimulae first reach the back of the brain from the retina, travelling first to the region known as V1 before being hierarchically processed through a series of regions distributed across a number of different visual pathways.\n",
        "\n",
        "Taking object recorgnition as a specific example, the cells of V1 act as edge detectors, able to detect the high spatial frequency features of an image. More sophisticated patterns are then learnt by passing the information processed by V1 to a series of other brain regions (e.g. V2 and V4), which learn to detect a hierarchy of more complex image textures, before finally reaching the posterior inferior temporal cortex (PIT) where individual cells are known to activate for individual objects such as faces or cars.\n",
        "\n",
        "CNNs are therefore designed to mimic this process. Representations are learnt over many convolutional layers, where early layers can be seen to act as edge detectors and higher layers detect more complex textures or whole objects.\n",
        "\n",
        "<br>\n",
        "\n",
        "\n",
        "<img src=\"https://drive.google.com/uc?id=1bXEO3A9tk0M11lAy56Y1Syo1m9a8l6Hh\" alt=\"Drawing\" style=\"width: 800px;\"/>\n",
        "\n",
        "This has strong advantages for image recognition, object localisation and segmentation tasks as it allows images to be compared without any requirement for spatial normalisation or image registration. In other words there is no assumption that corresponding image pixels – at the same relative locations in the image, represent the same content, which is something that can be very difficult to achieve for example of complex natural scenes, which can vary in content dramatically whilst having the same label (for example, imagine all the different architectures of a house or building, how would one to one correspondence be achieved for images in that case?). The same is true in many cases for medical imaging for example brains vary in ways which cannot fully be compared through deformable models.\n",
        "\n",
        "## 2. The convolutional operation\n",
        "\n",
        "So how do convolutional operations support comparisons between images? Lets first look at an example of the convolutional operation applied for a hand engineered filter kernel known as a Sobel filter (designed to detect edges) \n",
        "\n",
        "Here we apply it to a small part of a 2D slice through a brain scan, at a point where we know there is a sharp change in image intensity. The numbers in the central grid reflect the intensity on a scale from 0 to 255.\n",
        "\n",
        "<img src=\"https://drive.google.com/uc?id=1Sy7tQfKvbrMwRCgIOe9q1Jmcgygbewt3\" alt=\"Drawing\"/>\n",
        "\n",
        "The convolutional operation then results from translating the convolutional kernel across the image and performing elementwise multiplication and sum at each location. The output of the operation is assigned to the pixel location at the centre of the filter:\n",
        "\n",
        "<br>\n",
        "\n",
        "\n",
        "<img src=\"https://drive.google.com/uc?id=1HyefEWs_wUg2xt3gzmbkcqXtaTPO5l5r\" alt=\"Drawing\"/>\n",
        "\n",
        "<br><br>\n",
        "\n",
        "Note, that technically a mathematical convolution first involves flipping the filter; however, CNNs ignore this as, since they are learning the filters themselves, it doesn't matter if the learn the originals or the flipped forms.Further, notice that the result of the full convolutional operation fills a grid of size 2 rows and 2 columns less than the original – corresponding to the number of full times the kernel can be fit into the space this can be corrected for using padding:\n",
        "\n",
        "<br>\n",
        "\n",
        "<img src=\"https://drive.google.com/uc?id=1V_5sqoG8s-fGdjshSXXQfUj5T1yKf2sL\" alt=\"Drawing\"/>\n",
        "\n",
        "<br>This adds as many outer layers of zeros as required to ensure that the center of the filter kernel now fits to the outer layer of the original network (i.e one layer for $3 \\times 3$ kernels but 2 for $5 \\times 5$ kernels.\n",
        "\n",
        "A related concept is strides, which allow the network convolutional operation to skip over locations in the image, with the result that the output shape is downsampled (e.g. for an input dimension h =7, kernel size f =3 and a stride s=2):\n",
        "\n",
        "<img src=\"https://drive.google.com/uc?id=1Eue4ycUntrmGY9lMB7lH6Osn5v5ocPlw\" alt=\"Drawing\"/>\n",
        "\n",
        "Where the dimensions of output following (strided and/or padded convolutions) can be determined from the following formular $ \\lfloor (h+2p -f)/s \\rfloor +1$.\n",
        "This means that technically not all input dimensions support strides > 1; however, in practice, should  $h+2p -f$ returns an odd number, deep learning frameworks will add zero padding to make it fit\n",
        "\n",
        "The end result of a sobel operation is a map sensitive to the edge structures in an image (it is an edge detector).\n",
        "\n",
        "<br> <img src=\"https://drive.google.com/uc?id=1KYKVmx29EfsJzLn9_nJnTr4INhwavWHc\" alt=\"Drawing\"/>\n",
        "\n",
        "IN general, images may be compared using hand engineered feature detectors by comparing the responses of images to these features in transformation and scale invariant ways. More specifically, historically the goal of traditional image detection approaches was to use the detectors to identify specific types of structure in an image (characterised by specific textures, or edge structures) and then compare images in terms of how often different types of features appeared. For example staying with the house analogy the detected patterns might signify a door or a window.\n",
        "\n",
        "The advantage of convolutional neural networks over traditional approaches is, therefore, that rather than hand designing techniques to detect features from images, the CNNs instead learn to detect these through design of bespoke filter kernels. The CNN filters correspond to the weights of the network; these are optimised through minimisation of a loss with respect to a image classification, regression or segmentation task, for example.\n",
        "\n"
      ]
    },
    {
      "cell_type": "markdown",
      "metadata": {
        "id": "pbUOWAvhaLoJ"
      },
      "source": [
        "## 3. The building blocks of Convolutional Neural Networks (CNNs).\n",
        "\n",
        "The essential components of a CNN are the convolutional layers, downsampling operations (performed through pooling or striding) and the activations (which support learning of non-linear interactions).\n",
        "\n",
        "### 3.1 Convolutional layers\n",
        "\n",
        "In the last section we looked at what is meant by the convolutional operation, but how is this implemented within deep networks and how does it relate to parameter (weights) learning during optimisaton.\n",
        "\n",
        "In contrast to fully connected layers, CNNs do not employ full connectivity between each incoming feature and each neuron in the layer. Rather each neuron in a CNN has a very restricted field of view, constrained to the dimensions of some local filter kernel fit at each location. Let's give this filter dimensions $f \\times f \\times d_0$, where $f$ represents the height and width of the kernel and $d_0$ represents the channel depth.\n",
        "\n",
        "<br> <img src=\"https://drive.google.com/uc?id=1NHP6eHiWLq6toj15mZUsH2hSxIvUgV87\" alt=\"Drawing\"/>\n",
        "\n",
        "The receptive field (or scale $f$ of filters) varies (although these are typically odd numbers e.g. $3 \\times 3$, $5 \\times 5$, $7 \\times 7$); however, the depth must always equal the depth of the incoming data array e.g for the input layers this might be 3 channels for a RGB image, or 1 for greyscale.\n",
        "\n",
        "All points in the image are constrained to learn the same filter weights as their neighbours (otherwise known as parameter sharing). This operation therefore reduces to learning a set of convolutional filters, which operate on the image to return activation maps e.g. the edge maps shown in the above figure. Training CNNs in this way both significantly reduces the amount of parameters which need to be learnt (relative to a comparable fully connected, or MLP, network). It also allows CNNs to take advantage of the hierarchical, multi-scale properties of images, in a similar way to biological networks.\n",
        "\n",
        "Accordingly the forward pass of a CNN is implemented in the following way:\n",
        "\n",
        "<br> <img src=\"https://drive.google.com/uc?id=1K_6GlJAAuoXcfLXh_ElcwGY4UWJCzI_H\" alt=\"Drawing\"/>\n",
        "\n",
        "<br> <img src=\"https://drive.google.com/uc?id=1dXaNcyZHrQdMbcu6BUuKoy0Cph98-fT2\" alt=\"Drawing\"/>\n",
        "\n",
        "Where the top figure shows the filter (weights) kernel fit at the first available location in the image, and the second shows the second location (ignoring channels/depth). At both locations the exact same weights $\\mathbf{W}_0=\\{W_{01},W_{02},....., W_{09}\\}$ are learnt. $Z$ here represents the result of the linear transformation where depth (third axis) records the result of this operation for each weights kernel $\\mathbf{W}_i$ learnt e.g. for the second kernel we instead see it fills index 1 of the 3rd axis:\n",
        "\n",
        "<br> <img src=\"https://drive.google.com/uc?id=1OW1swfolAE-swxK9il2fntT02Fg4uGjF\" alt=\"Drawing\"/>\n",
        "\n",
        "This can be implemented fast using numpy vectorisation by reshaping the filters and image patches to support straight matrix multiplication.\n",
        "\n",
        "<br> <img src=\"https://drive.google.com/uc?id=14q27bUCWHT1Af1Ln_kCxca3Z22xn9uuE\" alt=\"Drawing\"/>\n",
        "\n",
        "Backpropagation is also simplied by the fact that it may also be implemented as a convolution. Specifically, if we consider that the forward operation is estimated as:\n",
        "\n",
        "<br> <img src=\"https://drive.google.com/uc?id=1E2p8sZhS8Uy7FZ-I_-QHZoIyPYVbO9X0\" alt=\"Drawing\"/>\n",
        "\n",
        "\n",
        "If we subsequently look at the partial derivatives of the loss estimated with respect to the parameters we see these take the following form, which itself reduces to a convolution, where the elements of $\\mathbf{X}$ are convolved by the partial derivatives of $L$  with respect to $\\mathbf{Z}$ \n",
        "\n",
        "<br> <img src=\"https://drive.google.com/uc?id=1LjuR3TG6vHWxxWCgiJOFy9cwQIdKJaZg\" alt=\"Drawing\"/>"
      ]
    },
    {
      "cell_type": "markdown",
      "metadata": {
        "id": "mVJ91MGbk1c8"
      },
      "source": [
        "### 3.2 Downsampling\n",
        "\n",
        "An important feature of convolutional networks is that they use downsampling to increase the receptive field of filter kernels so as to learn to recognise objects over a hierarchy of scales.\n",
        "\n",
        "For example imagine a car, early features of the network might recognise sharp edges, mid range features (filters/kernels) might then learn more complex textures and shapes, building towards the deeper layers recognising parts of the object (wheels, mirrors, windows, doors) and finally the whole object.\n",
        "\n",
        "There are two different mechanisms that CNNs use for downsampling: pooling and striding. \n",
        "\n",
        "**Pooling**: works by fitting a pooling kernel to typically non-overlapping patches of an image and then applying simple min, max or averaging operations to aggregate/filter those values.\n",
        "\n",
        "For example, below we show max pool, implemented with a pooling filter of shape $2\\times 2$ and stride of 2:\n",
        "\n",
        "<br> <img src=\"https://drive.google.com/uc?id=1lUZHys3qCJczk9h_mdt2Ve2ftrKH9Gs1\" alt=\"Drawing\"/>\n",
        "\n",
        "Looking first at the top left yellow block, we see the max pool reduces the four numbers to one by picking the largest element (9); the same applies to the green, blue and red blocks. As a result the image is downsampled by a factor of 2.\n",
        "\n",
        "Backpropagation through max pool layers operates similarly as for relu (given that both result from elementwise max operations). However, in order to track back through a max poool a mask must be kept, which saves the locations of the largest elements of each pooling kernel (resulting from the forward operation.\n",
        "\n",
        "**Strides** on the work hand work by applying a convolutional operation whilst skipping out certain locations in the image, for example every alternate kernel centre:\n",
        "\n",
        "<img src=\"https://drive.google.com/uc?id=1h75jIooLppf6I9ANsrCZ8igIfEUeUzx6\" alt=\"Drawing\"/>\n",
        "\n",
        "These offers the advantage of effectively learning the downsampling operation, but at the cost of learning more parameters.\n",
        "\n",
        "### 3.3. Activations\n",
        "\n",
        "Importantly as before convolutional networks require activation layers in order to learn non-linear mappings of the data. It is typical to implement activations (within the body of the CNN) as Relu functions. As these operate elementwise, their behaviour is much as before.\n",
        "\n",
        "### 3.4 Optional elements\n",
        "\n",
        "In addition to the key components of convolutional networks, several other operations have been introduced to regularise, speed up training and/or improve efficiency or generalisability of network:\n",
        "\n",
        "#### 3.4.1 $1\\times 1$ convolutions\n",
        "\n",
        "The motivation behind $1\\times 1$ convolutions is to support compression or upsampling of the channel dimension of an activation block. This can be useful when the goal is to perform some parameter heavy operation, after which point the data can be upsampled back to its previous resolution. \n",
        "\n",
        "An example of how $1x1$ comvolutions achieve this can be found in the linked\n",
        "[blog](https://towardsdatascience.com/a-comprehensive-introduction-to-different-types-of-convolutions-in-deep-learning-669281e58215\n",
        "), which explains that convolving the blue block (shape $H \\times  W  \\times D$)  with the orange filter (shape $1\\times 1 \\times D$) will return one 2D output shape $H\\times W \\times 1$; when we apply N of these then the dimensions of the output will be $H\\times W \\times N$\n",
        "\n",
        "<img src=\"https://drive.google.com/uc?id=1F9gcqSORiGFpYkbvVx0rwAZVnYb9xddR\" alt=\"Drawing\"/>\n",
        "\n",
        "As always the depth of the kernel must be equal to the depth of the incoming avctivation tensor.\n",
        "\n",
        "#### 3.4.2 Batch Normalisation (batchnorm)\n",
        "\n",
        "As we will see in the session on optimisers, deep networks are typically trained with variants of stochastic gradient descent, this samples batches from the data sets and estimates average loss for each batch rather than estimating it across all examples. This can lead to noisy gradient updates, since the composition of each batch is subject to change. [Batch-norm](https://arxiv.org/abs/1502.03167) seeks to address this by normalising and rescaling the activations of each batch, at every layer throughout the network. In doing so it can considerably speed up training.\n",
        "\n",
        "For more details on batch normalisation, the (Fastai course)[https://github.com/hiromis/notes/blob/master/Lesson6.md] provides an excellent intuitive explanation (at 44mins)\n",
        "\n",
        "#### 3.4.3 Dropout regularisation\n",
        "\n",
        "Finally dropout is a technique which can be used to performed network regularisation. It works by randomly dropping activations during training, by applying a randomised masking operation on the output of each layer. In doing so, the approach stops individual network components form memorising the inputs – something which would lead to overfitting. There is a trade off however, as dropping out too many weights will prevent the network from learning well enough and will cause underfitting.\n",
        "\n",
        "\n"
      ]
    },
    {
      "cell_type": "markdown",
      "metadata": {
        "id": "FXFj2s03p0oO"
      },
      "source": [
        "## 4 Implementing Convolutional Neural Networks in PyTorch\n",
        "\n",
        "### 4.1 Convolution Layers\n",
        "\n",
        "A 2D convolution class is defined within the `torch.nn` module as follows:\n",
        "\n",
        "<img src=\"https://drive.google.com/uc?id=12hvQSk-kCsPWTnEE16KKPkA0zo1R3Wzc\" alt=\"Drawing\" style=\"width: 800px;\"/>\n",
        "\n",
        "#### **Exercise 1** implementing a 2D convolution\n",
        "\n",
        "Let's look at implementing implement a 2d Convolution with stride = 1, kernel size = 3x3 and 2 output channels, applied to a random 3D 'image' generated with the same shape, demoed previously for linear layers ($3 \\times 100 \\times 100$ - noting here channels are specified first, following the required PyTorch convention). "
      ]
    },
    {
      "cell_type": "code",
      "metadata": {
        "id": "pEr-zNz6qA5U",
        "colab": {
          "base_uri": "https://localhost:8080/"
        },
        "outputId": "02839663-bd3e-4e5f-c79c-7f137be07af5"
      },
      "source": [
        "import torch\n",
        "import torch.nn as nn # importing torch.nn \n",
        "\n",
        "# the first dimension has size N where N is the number of images. \n",
        "#here it is simply 1\n",
        "\n",
        "input_image = torch.randint(0, 255, (1, 3,100,100)) # our random image. \n",
        "\n",
        "# building our conv operation. note that we did not need to specify the names of the parameters. \n",
        "#nn.Conv2d(3,2,3) is sufficient\n",
        "operation = nn.Conv2d(in_channels = 3,out_channels = 2, kernel_size = 3) \n",
        "\n",
        "print(operation) #we can see our convolution operation by printing it"
      ],
      "execution_count": null,
      "outputs": [
        {
          "output_type": "stream",
          "text": [
            "Conv2d(3, 2, kernel_size=(3, 3), stride=(1, 1))\n"
          ],
          "name": "stdout"
        }
      ]
    },
    {
      "cell_type": "markdown",
      "metadata": {
        "id": "JLmlpS-0rr1Q"
      },
      "source": [
        "First try the following operation - observe the ```RuntimeError```"
      ]
    },
    {
      "cell_type": "code",
      "metadata": {
        "id": "uVIAp99Qrsa8",
        "colab": {
          "base_uri": "https://localhost:8080/",
          "height": 301
        },
        "outputId": "25d04775-bff8-4981-d7da-238ce34f6af1"
      },
      "source": [
        "result = operation(input_image)"
      ],
      "execution_count": null,
      "outputs": [
        {
          "output_type": "error",
          "ename": "RuntimeError",
          "evalue": "ignored",
          "traceback": [
            "\u001b[0;31m---------------------------------------------------------------------------\u001b[0m",
            "\u001b[0;31mRuntimeError\u001b[0m                              Traceback (most recent call last)",
            "\u001b[0;32m<ipython-input-2-b10a8f87fa94>\u001b[0m in \u001b[0;36m<module>\u001b[0;34m()\u001b[0m\n\u001b[0;32m----> 1\u001b[0;31m \u001b[0mresult\u001b[0m \u001b[0;34m=\u001b[0m \u001b[0moperation\u001b[0m\u001b[0;34m(\u001b[0m\u001b[0minput_image\u001b[0m\u001b[0;34m)\u001b[0m\u001b[0;34m\u001b[0m\u001b[0;34m\u001b[0m\u001b[0m\n\u001b[0m",
            "\u001b[0;32m/usr/local/lib/python3.6/dist-packages/torch/nn/modules/module.py\u001b[0m in \u001b[0;36m_call_impl\u001b[0;34m(self, *input, **kwargs)\u001b[0m\n\u001b[1;32m    725\u001b[0m             \u001b[0mresult\u001b[0m \u001b[0;34m=\u001b[0m \u001b[0mself\u001b[0m\u001b[0;34m.\u001b[0m\u001b[0m_slow_forward\u001b[0m\u001b[0;34m(\u001b[0m\u001b[0;34m*\u001b[0m\u001b[0minput\u001b[0m\u001b[0;34m,\u001b[0m \u001b[0;34m**\u001b[0m\u001b[0mkwargs\u001b[0m\u001b[0;34m)\u001b[0m\u001b[0;34m\u001b[0m\u001b[0;34m\u001b[0m\u001b[0m\n\u001b[1;32m    726\u001b[0m         \u001b[0;32melse\u001b[0m\u001b[0;34m:\u001b[0m\u001b[0;34m\u001b[0m\u001b[0;34m\u001b[0m\u001b[0m\n\u001b[0;32m--> 727\u001b[0;31m             \u001b[0mresult\u001b[0m \u001b[0;34m=\u001b[0m \u001b[0mself\u001b[0m\u001b[0;34m.\u001b[0m\u001b[0mforward\u001b[0m\u001b[0;34m(\u001b[0m\u001b[0;34m*\u001b[0m\u001b[0minput\u001b[0m\u001b[0;34m,\u001b[0m \u001b[0;34m**\u001b[0m\u001b[0mkwargs\u001b[0m\u001b[0;34m)\u001b[0m\u001b[0;34m\u001b[0m\u001b[0;34m\u001b[0m\u001b[0m\n\u001b[0m\u001b[1;32m    728\u001b[0m         for hook in itertools.chain(\n\u001b[1;32m    729\u001b[0m                 \u001b[0m_global_forward_hooks\u001b[0m\u001b[0;34m.\u001b[0m\u001b[0mvalues\u001b[0m\u001b[0;34m(\u001b[0m\u001b[0;34m)\u001b[0m\u001b[0;34m,\u001b[0m\u001b[0;34m\u001b[0m\u001b[0;34m\u001b[0m\u001b[0m\n",
            "\u001b[0;32m/usr/local/lib/python3.6/dist-packages/torch/nn/modules/conv.py\u001b[0m in \u001b[0;36mforward\u001b[0;34m(self, input)\u001b[0m\n\u001b[1;32m    421\u001b[0m \u001b[0;34m\u001b[0m\u001b[0m\n\u001b[1;32m    422\u001b[0m     \u001b[0;32mdef\u001b[0m \u001b[0mforward\u001b[0m\u001b[0;34m(\u001b[0m\u001b[0mself\u001b[0m\u001b[0;34m,\u001b[0m \u001b[0minput\u001b[0m\u001b[0;34m:\u001b[0m \u001b[0mTensor\u001b[0m\u001b[0;34m)\u001b[0m \u001b[0;34m->\u001b[0m \u001b[0mTensor\u001b[0m\u001b[0;34m:\u001b[0m\u001b[0;34m\u001b[0m\u001b[0;34m\u001b[0m\u001b[0m\n\u001b[0;32m--> 423\u001b[0;31m         \u001b[0;32mreturn\u001b[0m \u001b[0mself\u001b[0m\u001b[0;34m.\u001b[0m\u001b[0m_conv_forward\u001b[0m\u001b[0;34m(\u001b[0m\u001b[0minput\u001b[0m\u001b[0;34m,\u001b[0m \u001b[0mself\u001b[0m\u001b[0;34m.\u001b[0m\u001b[0mweight\u001b[0m\u001b[0;34m)\u001b[0m\u001b[0;34m\u001b[0m\u001b[0;34m\u001b[0m\u001b[0m\n\u001b[0m\u001b[1;32m    424\u001b[0m \u001b[0;34m\u001b[0m\u001b[0m\n\u001b[1;32m    425\u001b[0m \u001b[0;32mclass\u001b[0m \u001b[0mConv3d\u001b[0m\u001b[0;34m(\u001b[0m\u001b[0m_ConvNd\u001b[0m\u001b[0;34m)\u001b[0m\u001b[0;34m:\u001b[0m\u001b[0;34m\u001b[0m\u001b[0;34m\u001b[0m\u001b[0m\n",
            "\u001b[0;32m/usr/local/lib/python3.6/dist-packages/torch/nn/modules/conv.py\u001b[0m in \u001b[0;36m_conv_forward\u001b[0;34m(self, input, weight)\u001b[0m\n\u001b[1;32m    418\u001b[0m                             _pair(0), self.dilation, self.groups)\n\u001b[1;32m    419\u001b[0m         return F.conv2d(input, weight, self.bias, self.stride,\n\u001b[0;32m--> 420\u001b[0;31m                         self.padding, self.dilation, self.groups)\n\u001b[0m\u001b[1;32m    421\u001b[0m \u001b[0;34m\u001b[0m\u001b[0m\n\u001b[1;32m    422\u001b[0m     \u001b[0;32mdef\u001b[0m \u001b[0mforward\u001b[0m\u001b[0;34m(\u001b[0m\u001b[0mself\u001b[0m\u001b[0;34m,\u001b[0m \u001b[0minput\u001b[0m\u001b[0;34m:\u001b[0m \u001b[0mTensor\u001b[0m\u001b[0;34m)\u001b[0m \u001b[0;34m->\u001b[0m \u001b[0mTensor\u001b[0m\u001b[0;34m:\u001b[0m\u001b[0;34m\u001b[0m\u001b[0;34m\u001b[0m\u001b[0m\n",
            "\u001b[0;31mRuntimeError\u001b[0m: expected scalar type Long but found Float"
          ]
        }
      ]
    },
    {
      "cell_type": "markdown",
      "metadata": {
        "id": "tPvIaqNDrufw"
      },
      "source": [
        "The operation fails as it cannot work on integer tensors. Let us convert it into a float tensor first"
      ]
    },
    {
      "cell_type": "code",
      "metadata": {
        "id": "XhEi6npcrxii"
      },
      "source": [
        "input_image = input_image.to(torch.float)\n",
        "result = operation(input_image)\n",
        "print(result.shape)"
      ],
      "execution_count": null,
      "outputs": []
    },
    {
      "cell_type": "markdown",
      "metadata": {
        "id": "RBxSs6i4r3fj"
      },
      "source": [
        "\n",
        "Observe the shape of the ```result``` with respect to the shape of the original image. We see we lose a unit around the edge of the 2D image and the output number of features reduce from 3 to 2 as required."
      ]
    },
    {
      "cell_type": "code",
      "metadata": {
        "id": "_-1Av_KQr9Zk"
      },
      "source": [
        "print(result.shape,input_image.shape)"
      ],
      "execution_count": null,
      "outputs": []
    },
    {
      "cell_type": "markdown",
      "metadata": {
        "id": "gUHb7Xvxr-hB"
      },
      "source": [
        "We can correct this using padding, as:"
      ]
    },
    {
      "cell_type": "code",
      "metadata": {
        "id": "iWe2Jy2jsD4b",
        "colab": {
          "base_uri": "https://localhost:8080/"
        },
        "outputId": "2bdfc2ee-d315-4d00-da4b-742fab6619e1"
      },
      "source": [
        "operation = nn.Conv2d(in_channels = 3,out_channels = 2, kernel_size = 3, padding=1)\n",
        "input_image = input_image.to(torch.float)\n",
        "result = operation(input_image)\n",
        "print(result.shape)"
      ],
      "execution_count": null,
      "outputs": [
        {
          "output_type": "stream",
          "text": [
            "torch.Size([1, 2, 100, 100])\n"
          ],
          "name": "stdout"
        }
      ]
    },
    {
      "cell_type": "markdown",
      "metadata": {
        "id": "W4UCc3hbsHRR"
      },
      "source": [
        "The result shows the result of a 2d Convolution between our image and some randomly generated kernel. What if we wanted to inspect that kernel? We can use: "
      ]
    },
    {
      "cell_type": "code",
      "metadata": {
        "id": "w65oZ_IHsJYD",
        "colab": {
          "base_uri": "https://localhost:8080/"
        },
        "outputId": "79ea6095-5d3f-42d7-847d-c9ede1a938e5"
      },
      "source": [
        "for name, param in operation.named_parameters(): # for each named parameter\n",
        "    print(name, param.data.shape)"
      ],
      "execution_count": null,
      "outputs": [
        {
          "output_type": "stream",
          "text": [
            "weight torch.Size([2, 3, 3, 3])\n",
            "bias torch.Size([2])\n"
          ],
          "name": "stdout"
        }
      ]
    },
    {
      "cell_type": "markdown",
      "metadata": {
        "id": "LANliiOasMlN"
      },
      "source": [
        "Now we can see that our convolution weight tensor is of shape [2,3,3,3] (2  3×3×3  convolutional filters) and has a bias of shape [2].\n",
        "\n",
        "**To do:** \n",
        "- How many parameters is this?\n",
        "- what would be the equivalent size of a linear layer with 2 output neurons (perhaps try it out below and see)\n",
        "\n"
      ]
    },
    {
      "cell_type": "code",
      "metadata": {
        "id": "_j3_NsPVY_Wb"
      },
      "source": [
        "# answer here"
      ],
      "execution_count": null,
      "outputs": []
    },
    {
      "cell_type": "markdown",
      "metadata": {
        "id": "TjC-SJH28x1p"
      },
      "source": [
        "### 4.2 Max pooling\n",
        "\n",
        "The maxpool function in pytorch is [```nn.MaxPool2d```](https://pytorch.org/docs/stable/nn.html?highlight=maxpool#torch.nn.MaxPool2d). As we have seen in our lectures the max pool operation downsamples an image by selecting the maximum intensity of an image patch to represent the whole patch.\n",
        "\n",
        "#### **Exercise 2**: MaxPooling in 2D.\n",
        "\n",
        "Generate a random integer array to represent 5 images which have 3 channels are of size (100 x 100). Perform a 2D maxpool on the images using PyTorch. Your max pooling operations should have:\n",
        "\n",
        "1. filter size 3x3, stride = 1 x 1\n",
        "\n",
        "2. filter size 4 x 2, stride = 2 x 2\n",
        "\n",
        "**Hint** check the docs (linked above)\n"
      ]
    },
    {
      "cell_type": "code",
      "metadata": {
        "id": "pnpTxMsz8gfA",
        "colab": {
          "base_uri": "https://localhost:8080/"
        },
        "outputId": "ddeefffa-42fb-4cc2-dce3-8287e95f5488"
      },
      "source": [
        "#STUDEBNT CODE HEre\n",
        "\n",
        "random_ims = torch.randint(0, 255, (5,3,100,100)).to(torch.float)\n",
        "\n",
        "#4.2.1 implement max pool with filter size 3x3 stride 1x1\n",
        "maxpoolop = nn.MaxPool2d(3,1) \n",
        "print(maxpoolop)\n",
        "r = maxpoolop(random_ims)\n",
        "print(r.shape)\n",
        "\n",
        "#4.2.1 implement max pool with filter size 4x2 stride 2x2\n",
        "maxpoolop = nn.MaxPool2d((4,2),2) \n",
        "print(maxpoolop)\n",
        "r = maxpoolop(random_ims)\n",
        "print(r.shape)"
      ],
      "execution_count": null,
      "outputs": [
        {
          "output_type": "stream",
          "text": [
            "MaxPool2d(kernel_size=3, stride=1, padding=0, dilation=1, ceil_mode=False)\n",
            "torch.Size([5, 3, 98, 98])\n",
            "MaxPool2d(kernel_size=(4, 2), stride=2, padding=0, dilation=1, ceil_mode=False)\n",
            "torch.Size([5, 3, 49, 50])\n"
          ],
          "name": "stdout"
        }
      ]
    },
    {
      "cell_type": "markdown",
      "metadata": {
        "id": "Y6U5evMv9jsw"
      },
      "source": [
        "### 4.3 Sequential layers\n",
        "\n",
        "It should be clear that as networks become more and more complicated, the forward function can quickly become long and cluttered. For these reasons PyTorch provides functionality to combine steps by stacking Modules in blocks usin `nn.sequential`."
      ]
    },
    {
      "cell_type": "code",
      "metadata": {
        "id": "AW1faO_daFSd"
      },
      "source": [
        "class Model(nn.Module):\n",
        " def __init__(self):\n",
        "        super(Model, self).__init__()\n",
        "    \n",
        "        self.conv_block1 = nn.Sequential(\n",
        "            nn.Conv2d(in_channels=3, \n",
        "                      out_channels=64, kernel_size=5),\n",
        "            nn.BatchNorm2d(64),\n",
        "            nn.ReLU()\n",
        "        )\n",
        "        \n",
        "        self.conv_block2 = nn.Sequential(\n",
        "            nn.Conv2d(in_channels=64,\n",
        "                      out_channels=128, kernel_size=5),\n",
        "            nn.BatchNorm2d(128),\n",
        "            nn.ReLU()\n",
        "        )\n",
        "        \n",
        "        self.fc1 = nn.Linear(320, 10)\n",
        "\n",
        "def forward(self, x):\n",
        "       x = self.conv_block1(x) \n",
        "       x = self.conv_block2(x)\n",
        "       x = x.view(-1, 320)\n",
        "       x = F.relu(self.fc1(x))\n",
        "       return F.log_softmax(x)\n",
        "\n",
        "net = Model()\n"
      ],
      "execution_count": null,
      "outputs": []
    },
    {
      "cell_type": "markdown",
      "metadata": {
        "id": "-YdkylNfaKgH"
      },
      "source": [
        "Sequential blocks are advantageous as they run faster. The one limitation, however, is that it is then not possible to observe the outputs of the intermediate steps stacked inside. If this is required, an alternative approach  can be to use a `ModudeList` or `ModuleDict`. For more functionality on `nn.sequential` `nn.ModuleList` and `nn.ModuleDict,` please read https://github.com/FrancescoSaverioZuppichini/Pytorch-how-and-when-to-use-Module-Sequential-ModuleList-and-ModuleDict "
      ]
    },
    {
      "cell_type": "markdown",
      "metadata": {
        "id": "Ok4V1elqaLyG"
      },
      "source": [
        "### 4.4 The convolutional network class\n",
        "\n",
        "Taking the example above (for sequential models) it should be clear that the structure of a CNN network remains similar to what we have seen before (for an MLP); however, this time we implement convolutional blocks from alternating convolutions, batch normalisation and activation layers.\n",
        "\n",
        "In what order should these be placed? It has been common convention to place the batchnorm before the ReLu with the pool (or downsample) at the end.\n",
        "\n",
        "<img src=\"https://drive.google.com/uc?id=1MZjYk4PoG5CmBD1JdIH4gY5-HY3DU85M\" alt=\"Drawing\"/>\n",
        "\n",
        "The order of the ReLu and pool is actually unimportant since, as elementwise operations, they commute.\n",
        "\n",
        "More frequently nowadays pooling operations ar ereplaced with strided convolutions (for example as seen in all variants of ther ResNet)\n",
        "\n",
        "<img src=\"https://drive.google.com/uc?id=1lB6XogE2drtqm5qs4D4UxycZ5HgMobYg\" alt=\"Drawing\"/>\n",
        "\n",
        "And in certain recent forum posts it has been suggested that greater performance is achieved through sitching the position of the batchnorm and relu:\n",
        "\n",
        "<img src=\"https://drive.google.com/uc?id=18iVfjvek8KAhbGLynOqDyeERAe8CHb5F\" alt=\"Drawing\"/>\n",
        "\n",
        "Dropout for regularisation has largely fallen out of favour as certain [sources](https://arxiv.org/abs/1801.05134) suggest its operations clash with batch normalisation. However, dropout remains commonly used at test time as a simple approx to estimate model uncertainty (see week 10)\n",
        "\n",
        "### 4.5 **Exercise 3** MNIST classification using a simple convolutional network\n",
        "\n",
        "We will next implement a convolutional implementation for MNIST classification and compare it against the MLP that we created in the last lecture\n",
        "\n",
        "#### 4.5.1 First we must download the MNIST dataset from torchvision and generate the DataLoaders:"
      ]
    },
    {
      "cell_type": "code",
      "metadata": {
        "id": "1KkUkFkmdqLT",
        "colab": {
          "base_uri": "https://localhost:8080/",
          "height": 755,
          "referenced_widgets": [
            "9028d2dfb3384cfaa32dfdc0f4980675",
            "b78780399f134637acac178c5f199677",
            "6580a732c00541658dbc3385dc11e3fc",
            "6de56336901e41779c8e95a149d1de04",
            "23fa6d19214e42dda5d91dcc5f393f57",
            "838278a3d1fe44f38bc472b96bb48827",
            "c88b91d729854b60887b00163e91a495",
            "809993be2ca14095ab89897d17815c51",
            "d436b0e299304f91b69a64503fd72751",
            "0174e42cd60644e9913b9904e3ca2103",
            "7cdd9d025b954d1b8e93dbb96fe95e60",
            "e7e83205e3964fa4a3d73981ad32be74",
            "1183ecf63fc34d0199675f64a3953766",
            "6c2f68109b0b4c54a84f3b8e6f65549b",
            "3dbf02b5b36842d39ef931011bb89875",
            "1d62b35df1f448c38d0ce34da9f9d86b",
            "345cad44978748f0949dd3eefb22a2be",
            "610c234c950b472aaaf32898394766a9",
            "2827cda635eb40be8c553a0466cb40f4",
            "6d0817ee49574b60a7a83cca41750ff8",
            "d2e923ca40fe45818437f32391fc2128",
            "1612c550353b44e281e717c208fab1db",
            "2c417449dc934848a072f5fe185144b9",
            "2b86f93244e54eb59478d79bd36cee60",
            "2f9a8920c0384c82a9f291b0747c0212",
            "1e0f284c16a141188fc092e8804738ce",
            "66e7cab04400458388b76d51fadb97d4",
            "efedf94a703242118b4ccdd44259fcaf",
            "33aa13a8d106445bbc61a58993e62fe9",
            "512ac2a9aedc48c1b0e51d370c80010e",
            "d1ff5a0a7e4f41438e89c4c070206582",
            "ce41a2eb4236458f9ce474dda1de7577",
            "3e29b0d84bf644bd891f6a2f78f34a7f",
            "12a6f5c41a5d4a45989314ff9261b046",
            "9bbf54acf3954fa184cf954a5e984787",
            "91275d622f81402999302d2f5d912230",
            "301f8626e19f4693b3927dac0aa6283e",
            "5fafbbef6c0345f193dd945bcdbe61ec",
            "9c40a817a3ec48d59eff5878f6d58913",
            "933dbbc2fd0842d089e6b1e8e25dd045",
            "c17ecd510a074976897263d56fe3067e",
            "6efe69997880439ca289e6ee23e52cc4",
            "0cc68e75a7414872865f23c59199ecda",
            "08f76f1308e446b38a305ad05768a561",
            "be830de0e952450893db3104b883e95b",
            "d1ec098daae4496786eed377520e37c9",
            "0a723b81a6f44b1dbb5875719dd1e36d",
            "4b582ceb82ab4a2e802daee2e613c228",
            "6f4472b529cb49cfbe7f1b3bedd8b1d8",
            "15002cc45f49447893e57f1bcd908b07",
            "456980a770064635bd4c75e675d01fa3",
            "9f9026b742f144f384723bc9aa45c1e5",
            "596007dd7c904f4894f31faa6f91c2b5",
            "0e29a3ed8ec5467d835194a0b845e4bc",
            "14e1691785554d4c84db34e505d654ee",
            "a50d72964e1d4850a93ca07c42b7a729",
            "50750c7b23104e4991cd840e76520f30",
            "af31de92bda9409d8b28e41a8e86d779",
            "be551c547b2049f3a5d78d73683027d4",
            "7cb829cb3fb84bdeb5a13440255cea88",
            "14ca3d99e0974a699ba038b51faa063c",
            "04ad2e6c525d464da54502098ff1b2c4",
            "157c65a07cc048cb92f070a5ce77b0ef",
            "44b53fc3f3d54816b5d6cf78f53a2733"
          ]
        },
        "outputId": "cf35c44d-dd21-4ba1-f76a-76c1e8d2f15c"
      },
      "source": [
        "import torchvision\n",
        "import numpy as np\n",
        "from torchvision import datasets, models, transforms\n",
        "\n",
        "# load datasets from torchvision - set test/train - convert to tensors\n",
        "mnist_train_dataset = datasets.MNIST(root = 'mnist_data/train', download= True, train = True, transform = transforms.ToTensor())\n",
        "mnist_test_dataset = datasets.MNIST(root = 'mnist_data/test', download= True, train = False, transform = transforms.ToTensor())\n",
        "\n",
        "# pass these to the DataLoader class to create instances for each of test and train\n",
        "# batch size is now smaller (8)\n",
        "train_loader = torch.utils.data.DataLoader(\n",
        "       mnist_train_dataset, batch_size= 8, shuffle = True)\n",
        "\n",
        "test_loader = torch.utils.data.DataLoader(\n",
        "       mnist_test_dataset, batch_size = 8, shuffle = True)\n",
        "\n",
        "# class labels for plotting function\n",
        "classes = ('0', '1', '2', '3',\n",
        "          '4', '5', '6', '7', '8', '9')"
      ],
      "execution_count": null,
      "outputs": [
        {
          "output_type": "stream",
          "text": [
            "Downloading http://yann.lecun.com/exdb/mnist/train-images-idx3-ubyte.gz to mnist_data/train/MNIST/raw/train-images-idx3-ubyte.gz\n"
          ],
          "name": "stdout"
        },
        {
          "output_type": "display_data",
          "data": {
            "application/vnd.jupyter.widget-view+json": {
              "model_id": "9028d2dfb3384cfaa32dfdc0f4980675",
              "version_minor": 0,
              "version_major": 2
            },
            "text/plain": [
              "HBox(children=(FloatProgress(value=1.0, bar_style='info', max=1.0), HTML(value='')))"
            ]
          },
          "metadata": {
            "tags": []
          }
        },
        {
          "output_type": "stream",
          "text": [
            "Extracting mnist_data/train/MNIST/raw/train-images-idx3-ubyte.gz to mnist_data/train/MNIST/raw\n",
            "Downloading http://yann.lecun.com/exdb/mnist/train-labels-idx1-ubyte.gz to mnist_data/train/MNIST/raw/train-labels-idx1-ubyte.gz\n"
          ],
          "name": "stdout"
        },
        {
          "output_type": "display_data",
          "data": {
            "application/vnd.jupyter.widget-view+json": {
              "model_id": "d436b0e299304f91b69a64503fd72751",
              "version_minor": 0,
              "version_major": 2
            },
            "text/plain": [
              "HBox(children=(FloatProgress(value=1.0, bar_style='info', max=1.0), HTML(value='')))"
            ]
          },
          "metadata": {
            "tags": []
          }
        },
        {
          "output_type": "stream",
          "text": [
            "Extracting mnist_data/train/MNIST/raw/train-labels-idx1-ubyte.gz to mnist_data/train/MNIST/raw\n",
            "Downloading http://yann.lecun.com/exdb/mnist/t10k-images-idx3-ubyte.gz to mnist_data/train/MNIST/raw/t10k-images-idx3-ubyte.gz\n"
          ],
          "name": "stdout"
        },
        {
          "output_type": "display_data",
          "data": {
            "application/vnd.jupyter.widget-view+json": {
              "model_id": "345cad44978748f0949dd3eefb22a2be",
              "version_minor": 0,
              "version_major": 2
            },
            "text/plain": [
              "HBox(children=(FloatProgress(value=1.0, bar_style='info', max=1.0), HTML(value='')))"
            ]
          },
          "metadata": {
            "tags": []
          }
        },
        {
          "output_type": "stream",
          "text": [
            "Extracting mnist_data/train/MNIST/raw/t10k-images-idx3-ubyte.gz to mnist_data/train/MNIST/raw\n",
            "Downloading http://yann.lecun.com/exdb/mnist/t10k-labels-idx1-ubyte.gz to mnist_data/train/MNIST/raw/t10k-labels-idx1-ubyte.gz\n"
          ],
          "name": "stdout"
        },
        {
          "output_type": "display_data",
          "data": {
            "application/vnd.jupyter.widget-view+json": {
              "model_id": "2f9a8920c0384c82a9f291b0747c0212",
              "version_minor": 0,
              "version_major": 2
            },
            "text/plain": [
              "HBox(children=(FloatProgress(value=1.0, bar_style='info', max=1.0), HTML(value='')))"
            ]
          },
          "metadata": {
            "tags": []
          }
        },
        {
          "output_type": "stream",
          "text": [
            "Extracting mnist_data/train/MNIST/raw/t10k-labels-idx1-ubyte.gz to mnist_data/train/MNIST/raw\n",
            "Processing...\n",
            "\n",
            "\n",
            "\n",
            "Done!\n",
            "Downloading http://yann.lecun.com/exdb/mnist/train-images-idx3-ubyte.gz to mnist_data/test/MNIST/raw/train-images-idx3-ubyte.gz\n"
          ],
          "name": "stdout"
        },
        {
          "output_type": "stream",
          "text": [
            "/usr/local/lib/python3.6/dist-packages/torchvision/datasets/mnist.py:480: UserWarning: The given NumPy array is not writeable, and PyTorch does not support non-writeable tensors. This means you can write to the underlying (supposedly non-writeable) NumPy array using the tensor. You may want to copy the array to protect its data or make it writeable before converting it to a tensor. This type of warning will be suppressed for the rest of this program. (Triggered internally at  /pytorch/torch/csrc/utils/tensor_numpy.cpp:141.)\n",
            "  return torch.from_numpy(parsed.astype(m[2], copy=False)).view(*s)\n"
          ],
          "name": "stderr"
        },
        {
          "output_type": "display_data",
          "data": {
            "application/vnd.jupyter.widget-view+json": {
              "model_id": "3e29b0d84bf644bd891f6a2f78f34a7f",
              "version_minor": 0,
              "version_major": 2
            },
            "text/plain": [
              "HBox(children=(FloatProgress(value=1.0, bar_style='info', max=1.0), HTML(value='')))"
            ]
          },
          "metadata": {
            "tags": []
          }
        },
        {
          "output_type": "stream",
          "text": [
            "Extracting mnist_data/test/MNIST/raw/train-images-idx3-ubyte.gz to mnist_data/test/MNIST/raw\n",
            "Downloading http://yann.lecun.com/exdb/mnist/train-labels-idx1-ubyte.gz to mnist_data/test/MNIST/raw/train-labels-idx1-ubyte.gz\n"
          ],
          "name": "stdout"
        },
        {
          "output_type": "display_data",
          "data": {
            "application/vnd.jupyter.widget-view+json": {
              "model_id": "c17ecd510a074976897263d56fe3067e",
              "version_minor": 0,
              "version_major": 2
            },
            "text/plain": [
              "HBox(children=(FloatProgress(value=1.0, bar_style='info', max=1.0), HTML(value='')))"
            ]
          },
          "metadata": {
            "tags": []
          }
        },
        {
          "output_type": "stream",
          "text": [
            "Extracting mnist_data/test/MNIST/raw/train-labels-idx1-ubyte.gz to mnist_data/test/MNIST/raw\n",
            "Downloading http://yann.lecun.com/exdb/mnist/t10k-images-idx3-ubyte.gz to mnist_data/test/MNIST/raw/t10k-images-idx3-ubyte.gz\n"
          ],
          "name": "stdout"
        },
        {
          "output_type": "display_data",
          "data": {
            "application/vnd.jupyter.widget-view+json": {
              "model_id": "6f4472b529cb49cfbe7f1b3bedd8b1d8",
              "version_minor": 0,
              "version_major": 2
            },
            "text/plain": [
              "HBox(children=(FloatProgress(value=1.0, bar_style='info', max=1.0), HTML(value='')))"
            ]
          },
          "metadata": {
            "tags": []
          }
        },
        {
          "output_type": "stream",
          "text": [
            "Extracting mnist_data/test/MNIST/raw/t10k-images-idx3-ubyte.gz to mnist_data/test/MNIST/raw\n",
            "Downloading http://yann.lecun.com/exdb/mnist/t10k-labels-idx1-ubyte.gz to mnist_data/test/MNIST/raw/t10k-labels-idx1-ubyte.gz\n",
            "\n",
            "\n",
            "\n"
          ],
          "name": "stdout"
        },
        {
          "output_type": "display_data",
          "data": {
            "application/vnd.jupyter.widget-view+json": {
              "model_id": "50750c7b23104e4991cd840e76520f30",
              "version_minor": 0,
              "version_major": 2
            },
            "text/plain": [
              "HBox(children=(FloatProgress(value=1.0, bar_style='info', max=1.0), HTML(value='')))"
            ]
          },
          "metadata": {
            "tags": []
          }
        },
        {
          "output_type": "stream",
          "text": [
            "Extracting mnist_data/test/MNIST/raw/t10k-labels-idx1-ubyte.gz to mnist_data/test/MNIST/raw\n",
            "Processing...\n",
            "Done!\n"
          ],
          "name": "stdout"
        }
      ]
    },
    {
      "cell_type": "markdown",
      "metadata": {
        "id": "viyj6xDYFMhi"
      },
      "source": [
        "See how we reduce the batchsize. \n",
        "\n",
        "#### 4.5.2 GPU or CPU?\n",
        "\n",
        "Before we can begin, we need to know whether we are using a GPU or a CPU. **If its GPU, the model and all the data should be uploaded into the GPU**. Fortunately, we can define a variable \"device\" that will either be cpu or gpu depending on availability, and load the data automatically on the correct 'device'."
      ]
    },
    {
      "cell_type": "code",
      "metadata": {
        "colab": {
          "base_uri": "https://localhost:8080/"
        },
        "id": "yAiU2d9-FoQC",
        "outputId": "9a672df8-12e4-48b1-8177-76ad1c37e65c"
      },
      "source": [
        "if torch.cuda.is_available():\n",
        "    device = torch.device('cuda')\n",
        "else:\n",
        "    device = torch.device('cpu')\n",
        "    \n",
        "print(device) "
      ],
      "execution_count": null,
      "outputs": [
        {
          "output_type": "stream",
          "text": [
            "cuda\n"
          ],
          "name": "stdout"
        }
      ]
    },
    {
      "cell_type": "markdown",
      "metadata": {
        "id": "Mm6dTWiVd1gX"
      },
      "source": [
        "We see that if cuda is available our model will be run on a GPU, otherwise the model will need to run on CPU.\n",
        "\n",
        "**To do** It may now be worth changing the Colab runtime to GPU to speed up training\n",
        "\n",
        "#### 4.5.3 Create a CNN network class \n",
        "\n",
        "We wish to create a CNN with 2 convolutional layers, using max pooling to downsample and implementing relu non-linearities. \n",
        "\n",
        "Following the two convolutional layers we implement followed by two fully connected layers in order to compress the features to 10 output neurons (representing each class). Here, the first layer has 50 neurons, each of which will be connected to all activations from the final convolutional layer. The second fully connected layer connects the 50 neurons of the penultimate layer to 10 output neurons followed by a softmax layer to return probabilities of the raining example belonging to each class.\n",
        "\n",
        "**To Do Ex 3.1 edit the number of input and output channels of the convolutional layers**\n",
        "\n",
        "1. MNIST is grayscale; thus how many input channels do you think this will be?\n",
        "2. The first convolutional layer has a kernel size of $5 \\times 5 $ and learns 10 output channels (in other words the neurons learn 10 $5 \\times 5$ image filters. \n",
        "3. The second layer has a kernel size of $5 \\times 5 $ and learns 20 output channels. \n",
        "\n",
        "**To Do Ex 3.2 Define MaxPool2d (line 22)**\n",
        "Using the syntax shown above define a maxpool2D operation with filter size $x \\times 2$ and stride of $2$\n",
        "\n",
        "**To Do Ex 3.3 The first fully connected layer has 50 neurons and the second has 10 neurons; input the number of input and output features for these layers**\n",
        "\n",
        "The dimensions of linear layer  are trickier to work out. Each neuron in the output must connect to each activation in the second convolutional layer. We see that the network applies $5\\times 5$ kernels with no padding and has downsamples through pooling twice. This results in the following reductions in spatial dimensions\n",
        "- conv1 downsamples from $28 \\times 28$ to $24 \\times 24$\n",
        "- maxpool1 downsamples from $24 \\times 24$ to $12 \\times 12$\n",
        "- conv2 downsamples from $12 \\times 12$ to $8 \\times 8$\n",
        "- maxpool1 downsamples from $8 \\times 8$ to $4 \\times 4$\n",
        "- Thus the activations of the final convolution layer have spatial dimensions $4 \\times 4$; how many output features is this in total?\n",
        "\n",
        "Note, if you are having problems working this out you can always print the shapes of your tensors while debugging!\n",
        "\n",
        "**However first we need to put together the forward function....**"
      ]
    },
    {
      "cell_type": "code",
      "metadata": {
        "colab": {
          "base_uri": "https://localhost:8080/"
        },
        "id": "eVZNXL2Ve74L",
        "outputId": "0818cd77-c756-4c26-8727-2a2327e29b6a"
      },
      "source": [
        "import torch.nn as nn\n",
        "import torch.nn.functional as F\n",
        "\n",
        "\n",
        "class MNIST_Model(nn.Module):\n",
        "    def __init__(self):\n",
        "        super(MNIST_Model, self).__init__()\n",
        "        # STUDENTS CODE - replace Nones with correct code #\n",
        "        # 3.1 a) edit the number of input and output channels of the convolutional layers\n",
        "        # MNIST is grayscale; thus how many input channels do you think this will be? We want to learn 10 filters\n",
        "        self.conv1=nn.Conv2d(1, 10, kernel_size=5)\n",
        "        \n",
        "        # 3.1. b) edit the number of input and output channels of the convolutional layers\n",
        "        # the previous layer learnt 10 kernels this one shall lern 20\n",
        "        self.conv2=nn.Conv2d(10, 20, kernel_size=5)\n",
        "        \n",
        "        # 3.3 edit the number of input and output features of the linear layers\n",
        "        self.fc1=nn.Linear(320, 50)\n",
        "        self.fc2=nn.Linear(50, 10)\n",
        "\n",
        "        # 3.2 definition of maxpool\n",
        "        self.maxpool=nn.MaxPool2d(2)\n",
        "        \n",
        "    \n",
        "    def forward(self, x):\n",
        "        # STUDENTS CODE 3.4 construct forward function\n",
        "        # 3.4.1 implement first convolutional block conv1 -> maxpool -> relu\n",
        "        # We implement the first conv layer for you\n",
        "        x = self.conv1(x)\n",
        "        x = self.maxpool(x)\n",
        "        x = F.relu(x)\n",
        "        #x = self.dropout1(x)\n",
        "        x = self.conv2(x)\n",
        "        x = self.maxpool(x)\n",
        "        x = F.relu(x)\n",
        "        #x = self.dropout2(x)\n",
        "        \n",
        "        x = x.view(x.size(0),-1)\n",
        "        x = self.fc1(x)\n",
        "        x = F.relu(x)\n",
        "        x = self.fc2(x)\n",
        "\n",
        "        return F.log_softmax(x,dim=1)\n",
        "\n",
        "    \n",
        "net = MNIST_Model() \n",
        "print(net)\n",
        "net = net.to(device)"
      ],
      "execution_count": null,
      "outputs": [
        {
          "output_type": "stream",
          "text": [
            "MNIST_Model(\n",
            "  (conv1): Conv2d(1, 10, kernel_size=(5, 5), stride=(1, 1))\n",
            "  (conv2): Conv2d(10, 20, kernel_size=(5, 5), stride=(1, 1))\n",
            "  (fc1): Linear(in_features=320, out_features=50, bias=True)\n",
            "  (fc2): Linear(in_features=50, out_features=10, bias=True)\n",
            "  (maxpool): MaxPool2d(kernel_size=2, stride=2, padding=0, dilation=1, ceil_mode=False)\n",
            "  (dropout): Dropout2d(p=0.5, inplace=False)\n",
            ")\n"
          ],
          "name": "stdout"
        }
      ]
    },
    {
      "cell_type": "markdown",
      "metadata": {
        "id": "YoRyijVFgsdA"
      },
      "source": [
        "**To Do 3.4** Implement the forward function to contain\n",
        "\n",
        "**Ex 3.4.1 the first convolutionl block** Here the first layer is implemented for you. See it references the layer instantiated in the constructor by name `self.conv1,` the argument is the input data `x`, and the output is also called `x`. Now implement the max pool and relu (using nn.functional form). Don't forget that, each time, the output of each operation of the forward layer (here `x`) becomes the input of the next layer (also `x`). If you get stuck go back to look at the MLP from the last lecture which applies the same basic structure, just with a different combination of layers\n",
        "\n",
        "**Ex 3.4.2 the second convolutionl block** Here repeat the process but for the second convolutional layer\n",
        "\n",
        "**Ex 3.4.3 the linear layers** we implement the flattening for you. PLease implement the 2 lienar layers with *one* relu activation only (between them). The finl activation is the softmax (shown in the return statement)\n"
      ]
    },
    {
      "cell_type": "markdown",
      "metadata": {
        "id": "DA9AFY21e_2V"
      },
      "source": [
        "### 4.5.4 Loss function and optimizer\n",
        "\n",
        "We again need to define our loss and optimizers. In this case, since we're doing classification, we use **CrossEntropy Loss**, a commonly used loss function for classification.\n"
      ]
    },
    {
      "cell_type": "code",
      "metadata": {
        "id": "qu9GBo15fBb4"
      },
      "source": [
        "import torch.optim as optim\n",
        "\n",
        "loss_fun = nn.CrossEntropyLoss()\n",
        "loss_fun = loss_fun.to(device)\n",
        "optimizer = optim.SGD(net.parameters(), lr=0.001, momentum=0.9)"
      ],
      "execution_count": null,
      "outputs": []
    },
    {
      "cell_type": "markdown",
      "metadata": {
        "id": "sTsEPs5gfGsi"
      },
      "source": [
        "### 4.5.4 Training \n",
        "\n",
        "We will now train our classifer model - this time iterating using enumerate. This which iterate over batches. The outer loop allows for iterating over epochs (with each epoch defining a pass through all the data) in the first instance we will leave this as 1 but if you are training on GPU you might choose to increase it a bit.\n",
        "\n",
        "**To do Ex 3.5 Implement the training interations**\n",
        "\n",
        "Implement the following steps:\n",
        "\n",
        "1. load data and labels to device\n",
        "2. clear the gradient\n",
        "3. feed the input and acquire the output from network\n",
        "4. calculating the predicted and the expected loss\n",
        "5. compute the gradient\n",
        "6. update the parameters\n",
        "\n",
        "**Hint** use examples from regression and MLP tasks\n",
        "\n",
        "**Don't forget! to clear gradients at the beginning of each epoch else they will be acculuated across each mini batch**"
      ]
    },
    {
      "cell_type": "code",
      "metadata": {
        "colab": {
          "base_uri": "https://localhost:8080/"
        },
        "id": "Uh1-JkOLfH3o",
        "outputId": "f638d3c0-e249-4f4c-cd4b-8b06cbd250b5"
      },
      "source": [
        "epochs = 1\n",
        "for epoch in range(epochs): \n",
        "\n",
        "    # enumerate can be used to output iteration index i, as well as the data \n",
        "    for i, (data, labels) in enumerate(train_loader, 0):\n",
        "        # STUDENTS CODE - replace Nones with correct code #\n",
        "\n",
        "        # Task 3.5.1 load data and labels to device\n",
        "        data = data.to(device)\n",
        "        labels = labels.to(device)\n",
        "        \n",
        "        # --------------------------------------------------task 2 ------------------------------------------------------------\n",
        "        # 3.5.2: implement training iteration here\n",
        "        # clear the gradient\n",
        "        optimizer.zero_grad()\n",
        "\n",
        "        #3.5.3 feed the input and acquire the output from network\n",
        "        outputs = net(data)\n",
        "\n",
        "        #3.5.4 calculating the predicted and the expected loss\n",
        "        loss = loss_fun(outputs, labels)\n",
        "\n",
        "        #3.5.5 compute the gradient\n",
        "        loss.backward()\n",
        "\n",
        "        #3.5.6 update the parameters\n",
        "        optimizer.step()\n",
        "        # ---------------------------------------------------------------------------------------------------------------------\n",
        "\n",
        "        # print statistics\n",
        "        ce_loss = loss.item()\n",
        "        if i % 100 == 0:\n",
        "            print('[%d, %5d] loss: %.3f' %\n",
        "                 (epoch + 1, i + 1, ce_loss))\n"
      ],
      "execution_count": null,
      "outputs": [
        {
          "output_type": "stream",
          "text": [
            "[1,     1] loss: 2.330\n",
            "[1,   101] loss: 2.283\n",
            "[1,   201] loss: 2.250\n",
            "[1,   301] loss: 2.203\n",
            "[1,   401] loss: 2.164\n",
            "[1,   501] loss: 1.447\n",
            "[1,   601] loss: 1.372\n",
            "[1,   701] loss: 0.622\n",
            "[1,   801] loss: 0.607\n",
            "[1,   901] loss: 0.537\n",
            "[1,  1001] loss: 0.237\n",
            "[1,  1101] loss: 0.572\n",
            "[1,  1201] loss: 0.529\n",
            "[1,  1301] loss: 0.258\n",
            "[1,  1401] loss: 0.287\n",
            "[1,  1501] loss: 1.241\n",
            "[1,  1601] loss: 0.758\n",
            "[1,  1701] loss: 0.301\n",
            "[1,  1801] loss: 0.873\n",
            "[1,  1901] loss: 0.218\n",
            "[1,  2001] loss: 0.236\n",
            "[1,  2101] loss: 0.039\n",
            "[1,  2201] loss: 0.423\n",
            "[1,  2301] loss: 0.185\n",
            "[1,  2401] loss: 0.354\n",
            "[1,  2501] loss: 0.244\n",
            "[1,  2601] loss: 0.180\n",
            "[1,  2701] loss: 0.951\n",
            "[1,  2801] loss: 0.005\n",
            "[1,  2901] loss: 0.143\n",
            "[1,  3001] loss: 0.185\n",
            "[1,  3101] loss: 0.045\n",
            "[1,  3201] loss: 0.025\n",
            "[1,  3301] loss: 0.076\n",
            "[1,  3401] loss: 0.463\n",
            "[1,  3501] loss: 1.189\n",
            "[1,  3601] loss: 0.175\n",
            "[1,  3701] loss: 0.352\n",
            "[1,  3801] loss: 0.111\n",
            "[1,  3901] loss: 0.321\n",
            "[1,  4001] loss: 0.058\n",
            "[1,  4101] loss: 1.113\n",
            "[1,  4201] loss: 0.007\n",
            "[1,  4301] loss: 0.018\n",
            "[1,  4401] loss: 0.043\n",
            "[1,  4501] loss: 0.035\n",
            "[1,  4601] loss: 0.058\n",
            "[1,  4701] loss: 0.257\n",
            "[1,  4801] loss: 0.106\n",
            "[1,  4901] loss: 0.090\n",
            "[1,  5001] loss: 0.009\n",
            "[1,  5101] loss: 0.170\n",
            "[1,  5201] loss: 0.098\n",
            "[1,  5301] loss: 0.078\n",
            "[1,  5401] loss: 0.002\n",
            "[1,  5501] loss: 0.007\n",
            "[1,  5601] loss: 0.236\n",
            "[1,  5701] loss: 0.318\n",
            "[1,  5801] loss: 0.060\n",
            "[1,  5901] loss: 0.040\n",
            "[1,  6001] loss: 0.011\n",
            "[1,  6101] loss: 0.011\n",
            "[1,  6201] loss: 0.036\n",
            "[1,  6301] loss: 0.011\n",
            "[1,  6401] loss: 0.055\n",
            "[1,  6501] loss: 0.011\n",
            "[1,  6601] loss: 0.007\n",
            "[1,  6701] loss: 0.054\n",
            "[1,  6801] loss: 0.228\n",
            "[1,  6901] loss: 0.081\n",
            "[1,  7001] loss: 0.138\n",
            "[1,  7101] loss: 0.010\n",
            "[1,  7201] loss: 0.066\n",
            "[1,  7301] loss: 0.063\n",
            "[1,  7401] loss: 0.182\n"
          ],
          "name": "stdout"
        }
      ]
    },
    {
      "cell_type": "markdown",
      "metadata": {
        "id": "bCaVs4jtfNuM"
      },
      "source": [
        "### 4.5.5 Testing\n",
        "\n",
        "We will now use our trained network to make a prediction on our test set. \n",
        "\n",
        "**To do** run below code to obtain your test accuracy"
      ]
    },
    {
      "cell_type": "code",
      "metadata": {
        "id": "JdNjP5dyfQff"
      },
      "source": [
        "#make an iterator from test_loader\n",
        "test_iterator = iter(test_loader)\n",
        "#Get a batch of testing images\n",
        "images, labels = test_iterator.next()\n",
        "images = images.to(device)\n",
        "labels = labels.to(device)"
      ],
      "execution_count": null,
      "outputs": []
    },
    {
      "cell_type": "code",
      "metadata": {
        "id": "AmmJWnb9zAzE"
      },
      "source": [
        ""
      ],
      "execution_count": null,
      "outputs": []
    },
    {
      "cell_type": "code",
      "metadata": {
        "colab": {
          "base_uri": "https://localhost:8080/",
          "height": 255
        },
        "id": "WF1_817ofSqU",
        "outputId": "7653cc35-ab37-408f-bf44-10a07d7d81f6"
      },
      "source": [
        "import matplotlib.pyplot as plt\n",
        "\n",
        "y_score = net(images)\n",
        "# get predicted class from the class probabilities\n",
        "_, y_pred = torch.max(y_score, 1)\n",
        "\n",
        "print('Predicted: ', ' '.join('%5s' % classes[y_pred[j]] for j in range(8)))\n",
        "rows = 2\n",
        "columns = 4\n",
        "# plot y_score - true label (t) vs predicted label (p)\n",
        "fig2 = plt.figure()\n",
        "for i in range(8):\n",
        "    fig2.add_subplot(rows, columns, i+1)\n",
        "    plt.title('t: ' + classes[labels[i].cpu()] + ' p: ' + classes[y_pred[i].cpu()])\n",
        "    img = images[i] / 2 + 0.5     # this is to unnormalize the image\n",
        "    img = torchvision.transforms.ToPILImage()(img.cpu())\n",
        "    plt.axis('off')\n",
        "    plt.imshow(img)\n",
        "plt.show()\n"
      ],
      "execution_count": null,
      "outputs": [
        {
          "output_type": "stream",
          "text": [
            "Predicted:      1     9     4     2     1     7     2     9\n"
          ],
          "name": "stdout"
        },
        {
          "output_type": "display_data",
          "data": {
            "image/png": "[encoded data removed]",
            "text/plain": [
              "<Figure size 432x288 with 8 Axes>"
            ]
          },
          "metadata": {
            "tags": [],
            "needs_background": "light"
          }
        }
      ]
    },
    {
      "cell_type": "markdown",
      "metadata": {
        "id": "E6nBpZNvfVcd"
      },
      "source": [
        "#### 4.5.5.1 Computing classification scores\n",
        "\n",
        "We will now use the predictions to compute the accuracy, f1 score, precision and recall. These are scores commonly used to evaluate classification, in particular the f1 score is a good measure for datasets with imbalanced classes."
      ]
    },
    {
      "cell_type": "code",
      "metadata": {
        "id": "gDzloW28fZSC"
      },
      "source": [
        "# first convert tensors to numpy\n",
        "y_true = labels.data.cpu().numpy()\n",
        "y_pred = y_pred.data.cpu().numpy()"
      ],
      "execution_count": null,
      "outputs": []
    },
    {
      "cell_type": "markdown",
      "metadata": {
        "id": "kpZC-gNgfZy1"
      },
      "source": [
        "You can use sklearn classification metrics to calculate the scores - you will \n",
        "need to input the true labels, and predicted classes.\n",
        "\n",
        "See https://scikit-learn.org/stable/modules/model_evaluation.html#classification-metrics for more details."
      ]
    },
    {
      "cell_type": "code",
      "metadata": {
        "colab": {
          "base_uri": "https://localhost:8080/"
        },
        "id": "hNNv9TgffhSf",
        "outputId": "ee2efdd7-a3dd-4bce-e828-94e14d63367e"
      },
      "source": [
        "from sklearn.metrics import accuracy_score, f1_score, recall_score, precision_score\n",
        "\n",
        "accuracy = accuracy_score(y_true, y_pred)\n",
        "f1 = f1_score(y_true, y_pred, average='macro')\n",
        "precision = precision_score(y_true, y_pred, average='macro')\n",
        "recall = recall_score(y_true, y_pred, average='macro')\n",
        "print('accuracy:', accuracy, ', f1 score:', f1, ', precision:', precision, ', recall:', recall)"
      ],
      "execution_count": null,
      "outputs": [
        {
          "output_type": "stream",
          "text": [
            "accuracy: 1.0 , f1 score: 1.0 , precision: 1.0 , recall: 1.0\n"
          ],
          "name": "stdout"
        }
      ]
    },
    {
      "cell_type": "markdown",
      "metadata": {
        "id": "tk2w-7302IKX"
      },
      "source": [
        "You should see "
      ]
    },
    {
      "cell_type": "markdown",
      "metadata": {
        "id": "HahZPNOcfmWd"
      },
      "source": [
        "## Ex 4 Optional Extras \n",
        "\n",
        "1. Try reducing the lines of code in the convolutional neural network class by grouping lines of code into `nn.Sequential` blocks. \n",
        "   - An example of your this can be done for linear layers is:\n",
        "```\n",
        "self.lin_blocks = nn.Sequential(\n",
        "            nn.Linear(320, 50),\n",
        "            nn.ReLU(),\n",
        "            nn.Linear(50, 10),\n",
        "            \n",
        "        )\n",
        "```\n",
        "  - try swapping out the linear layers of the network for this sequnetal block\n",
        "  - then create your own sequential convolutional blocks\n",
        "2. Try adding dropout and batchnorm to your convolutional blocks\n",
        "3. Try removing/changing/adding layers to see how it impacts performance\n",
        "\n"
      ]
    },
    {
      "cell_type": "code",
      "metadata": {
        "colab": {
          "base_uri": "https://localhost:8080/"
        },
        "id": "v0O79PmYpv-c",
        "outputId": "c1aa1869-e9e1-4408-9e2e-8d2dda8e7cec"
      },
      "source": [
        "# STUDENTS CODE HERE\n",
        "# 4.1 copy and paste the network from above but this time swap out the conv->maxpool->relu operations (and linear layers) for sequential blocks\n",
        "\n",
        "class MNIST_Sequential_Model(nn.Module):\n",
        "    def __init__(self):\n",
        "        super(MNIST_Sequential_Model, self).__init__()\n",
        "        # 4.1 first sequential conv block\n",
        "        self.conv_block1 = nn.Sequential(\n",
        "            nn.Conv2d(1, 10, kernel_size=5),\n",
        "            nn.BatchNorm2d(10), # 4.2 adding optional batchnorm (num_features = number of output channels from previous convolution layer)\n",
        "            nn.MaxPool2d(2),\n",
        "            nn.ReLU()\n",
        "        )\n",
        "\n",
        "        # second sequential conv block\n",
        "        self.conv_block2 = nn.Sequential(\n",
        "            nn.Conv2d(10, 20, kernel_size=5),\n",
        "            nn.BatchNorm2d(20), # 4.2 adding optional batchnorm (num_features = number of output channels from previous convolution layer)\n",
        "            nn.MaxPool2d(2),\n",
        "            nn.ReLU(),\n",
        "        )\n",
        "        \n",
        "        \n",
        "        # lineaar sequential block\n",
        "        self.lin_blocks = nn.Sequential(\n",
        "         nn.Linear(320, 50),\n",
        "         nn.ReLU(),\n",
        "         nn.Linear(50, 10),\n",
        " \n",
        "       )\n",
        "\n",
        "      # (optional) dropout\n",
        "        self.dropout=nn.Dropout2d() # could also go in sequential blocks of course\n",
        "    \n",
        "    def forward(self, x):\n",
        "        # with sequential blocks the foward function reduces to\n",
        "        x = self.conv_block1(x)\n",
        "      #  x=self.dropout(x)\n",
        "        x = self.conv_block2(x)\n",
        "      #  x=self.dropout(x)\n",
        "        x = x.view(x.size(0),-1) # still need to flatten before linear blocks\n",
        "        x = self.lin_blocks(x)\n",
        "\n",
        "        return F.log_softmax(x,dim=1)\n",
        "\n",
        "    \n",
        "net_seq = MNIST_Sequential_Model() \n",
        "print(net_seq)\n",
        "net_seq = net_seq.to(device)"
      ],
      "execution_count": null,
      "outputs": [
        {
          "output_type": "stream",
          "text": [
            "MNIST_Sequential_Model(\n",
            "  (conv_block1): Sequential(\n",
            "    (0): Conv2d(1, 10, kernel_size=(5, 5), stride=(1, 1))\n",
            "    (1): BatchNorm2d(10, eps=1e-05, momentum=0.1, affine=True, track_running_stats=True)\n",
            "    (2): MaxPool2d(kernel_size=2, stride=2, padding=0, dilation=1, ceil_mode=False)\n",
            "    (3): ReLU()\n",
            "  )\n",
            "  (conv_block2): Sequential(\n",
            "    (0): Conv2d(10, 20, kernel_size=(5, 5), stride=(1, 1))\n",
            "    (1): BatchNorm2d(20, eps=1e-05, momentum=0.1, affine=True, track_running_stats=True)\n",
            "    (2): MaxPool2d(kernel_size=2, stride=2, padding=0, dilation=1, ceil_mode=False)\n",
            "    (3): ReLU()\n",
            "  )\n",
            "  (lin_blocks): Sequential(\n",
            "    (0): Linear(in_features=320, out_features=50, bias=True)\n",
            "    (1): ReLU()\n",
            "    (2): Linear(in_features=50, out_features=10, bias=True)\n",
            "  )\n",
            "  (dropout): Dropout2d(p=0.5, inplace=False)\n",
            ")\n"
          ],
          "name": "stdout"
        }
      ]
    },
    {
      "cell_type": "code",
      "metadata": {
        "colab": {
          "base_uri": "https://localhost:8080/"
        },
        "id": "DjM6VOW6sCv7",
        "outputId": "70209ce8-fa33-4970-9749-cd136dc5f5e6"
      },
      "source": [
        "# STUDENTS CODE HERE\n",
        "# regenerate optimiser for this new network\n",
        "\n",
        "optimizer = optim.SGD(net_seq.parameters(), lr=0.001, momentum=0.9)\n",
        "\n",
        "# Now copy and pste training loop and run for the new network \n",
        "\n",
        "epochs = 1\n",
        "for epoch in range(epochs): \n",
        "\n",
        "    # enumerate can be used to output iteration index i, as well as the data \n",
        "    for i, (data, labels) in enumerate(train_loader, 0):\n",
        "        # STUDENTS CODE - replace Nones with correct code #\n",
        "\n",
        "        # Task 3.5.1 load data and labels to device\n",
        "        data = data.to(device)\n",
        "        labels = labels.to(device)\n",
        "        \n",
        "        # clear the gradient\n",
        "        optimizer.zero_grad()\n",
        "\n",
        "        #Change the network!!!\n",
        "        outputs = net_seq(data)\n",
        "\n",
        "        #3.5.4 calculating the predicted and the expected loss\n",
        "        loss = loss_fun(outputs, labels)\n",
        "\n",
        "        #3.5.5 compute the gradient\n",
        "        loss.backward()\n",
        "\n",
        "        #3.5.6 update the parameters\n",
        "        optimizer.step()\n",
        "\n",
        "        # print statistics\n",
        "        ce_loss = loss.item()\n",
        "        if i % 100 == 0:\n",
        "            print('[%d, %5d] loss: %.3f' %\n",
        "                 (epoch + 1, i + 1, ce_loss))\n"
      ],
      "execution_count": null,
      "outputs": [
        {
          "output_type": "stream",
          "text": [
            "[1,     1] loss: 2.376\n",
            "[1,   101] loss: 1.452\n",
            "[1,   201] loss: 0.940\n",
            "[1,   301] loss: 0.286\n",
            "[1,   401] loss: 0.226\n",
            "[1,   501] loss: 0.141\n",
            "[1,   601] loss: 0.109\n",
            "[1,   701] loss: 0.069\n",
            "[1,   801] loss: 0.210\n",
            "[1,   901] loss: 0.082\n",
            "[1,  1001] loss: 0.858\n",
            "[1,  1101] loss: 0.192\n",
            "[1,  1201] loss: 0.097\n",
            "[1,  1301] loss: 0.037\n",
            "[1,  1401] loss: 0.063\n",
            "[1,  1501] loss: 0.057\n",
            "[1,  1601] loss: 0.044\n",
            "[1,  1701] loss: 0.017\n",
            "[1,  1801] loss: 0.077\n",
            "[1,  1901] loss: 0.257\n",
            "[1,  2001] loss: 0.443\n",
            "[1,  2101] loss: 0.038\n",
            "[1,  2201] loss: 0.458\n",
            "[1,  2301] loss: 0.059\n",
            "[1,  2401] loss: 0.112\n",
            "[1,  2501] loss: 0.035\n",
            "[1,  2601] loss: 0.039\n",
            "[1,  2701] loss: 0.024\n",
            "[1,  2801] loss: 0.005\n",
            "[1,  2901] loss: 0.015\n",
            "[1,  3001] loss: 0.023\n",
            "[1,  3101] loss: 0.004\n",
            "[1,  3201] loss: 0.037\n",
            "[1,  3301] loss: 0.039\n",
            "[1,  3401] loss: 0.030\n",
            "[1,  3501] loss: 0.008\n",
            "[1,  3601] loss: 0.052\n",
            "[1,  3701] loss: 0.066\n",
            "[1,  3801] loss: 0.176\n",
            "[1,  3901] loss: 0.019\n",
            "[1,  4001] loss: 0.021\n",
            "[1,  4101] loss: 0.137\n",
            "[1,  4201] loss: 0.115\n",
            "[1,  4301] loss: 0.188\n",
            "[1,  4401] loss: 0.235\n",
            "[1,  4501] loss: 0.004\n",
            "[1,  4601] loss: 0.054\n",
            "[1,  4701] loss: 0.016\n",
            "[1,  4801] loss: 0.229\n",
            "[1,  4901] loss: 0.009\n",
            "[1,  5001] loss: 0.028\n",
            "[1,  5101] loss: 0.008\n",
            "[1,  5201] loss: 0.007\n",
            "[1,  5301] loss: 0.011\n",
            "[1,  5401] loss: 0.024\n",
            "[1,  5501] loss: 0.041\n",
            "[1,  5601] loss: 0.006\n",
            "[1,  5701] loss: 0.024\n",
            "[1,  5801] loss: 0.006\n",
            "[1,  5901] loss: 0.004\n",
            "[1,  6001] loss: 0.004\n",
            "[1,  6101] loss: 0.009\n",
            "[1,  6201] loss: 0.054\n",
            "[1,  6301] loss: 0.015\n",
            "[1,  6401] loss: 0.016\n",
            "[1,  6501] loss: 0.005\n",
            "[1,  6601] loss: 0.033\n",
            "[1,  6701] loss: 0.001\n",
            "[1,  6801] loss: 0.096\n",
            "[1,  6901] loss: 0.065\n",
            "[1,  7001] loss: 0.069\n",
            "[1,  7101] loss: 0.209\n",
            "[1,  7201] loss: 0.087\n",
            "[1,  7301] loss: 0.017\n",
            "[1,  7401] loss: 0.026\n"
          ],
          "name": "stdout"
        }
      ]
    },
    {
      "cell_type": "code",
      "metadata": {
        "colab": {
          "base_uri": "https://localhost:8080/",
          "height": 255
        },
        "id": "fJC61pkYzB25",
        "outputId": "4ba48e7c-12e5-4583-b8e7-0a554f93057c"
      },
      "source": [
        "# STUDENT CODE - test performance \n",
        "\n",
        "# keeping test batch constant for comparison\n",
        "\n",
        "y_score = net_seq(images)\n",
        "# get predicted class from the class probabilities\n",
        "_, y_pred = torch.max(y_score, 1)\n",
        "\n",
        "print('Predicted: ', ' '.join('%5s' % classes[y_pred[j]] for j in range(8)))\n",
        "rows = 2\n",
        "columns = 4\n",
        "# plot y_score - true label (t) vs predicted label (p)\n",
        "fig2 = plt.figure()\n",
        "for i in range(8):\n",
        "    fig2.add_subplot(rows, columns, i+1)\n",
        "    plt.title('t: ' + classes[labels[i].cpu()] + ' p: ' + classes[y_pred[i].cpu()])\n",
        "    img = images[i] / 2 + 0.5     # this is to unnormalize the image\n",
        "    img = torchvision.transforms.ToPILImage()(img.cpu())\n",
        "    plt.axis('off')\n",
        "    plt.imshow(img)\n",
        "plt.show()\n"
      ],
      "execution_count": null,
      "outputs": [
        {
          "output_type": "stream",
          "text": [
            "Predicted:      4     1     4     9     0     2     6     0\n"
          ],
          "name": "stdout"
        },
        {
          "output_type": "display_data",
          "data": {
            "image/png": "[encoded data removed]",
            "text/plain": [
              "<Figure size 432x288 with 8 Axes>"
            ]
          },
          "metadata": {
            "tags": [],
            "needs_background": "light"
          }
        }
      ]
    }
  ]
}